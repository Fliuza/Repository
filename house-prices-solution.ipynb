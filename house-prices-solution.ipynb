{
 "cells": [
  {
   "cell_type": "markdown",
   "id": "fb1ddf6e-7971-4b14-98c9-23f86ffef3df",
   "metadata": {},
   "source": [
    "## Data cleaning"
   ]
  },
  {
   "cell_type": "code",
   "execution_count": 315,
   "id": "87579018-78d9-4785-90ec-e2cda0b7d83e",
   "metadata": {},
   "outputs": [],
   "source": [
    "import pandas as pd\n",
    "import numpy as np\n",
    "import os"
   ]
  },
  {
   "cell_type": "code",
   "execution_count": 454,
   "id": "9aac1622-b53f-48ae-be6b-c6033705043b",
   "metadata": {},
   "outputs": [
    {
     "data": {
      "text/html": [
       "<div>\n",
       "<style scoped>\n",
       "    .dataframe tbody tr th:only-of-type {\n",
       "        vertical-align: middle;\n",
       "    }\n",
       "\n",
       "    .dataframe tbody tr th {\n",
       "        vertical-align: top;\n",
       "    }\n",
       "\n",
       "    .dataframe thead th {\n",
       "        text-align: right;\n",
       "    }\n",
       "</style>\n",
       "<table border=\"1\" class=\"dataframe\">\n",
       "  <thead>\n",
       "    <tr style=\"text-align: right;\">\n",
       "      <th></th>\n",
       "      <th>Order</th>\n",
       "      <th>PID</th>\n",
       "      <th>MS SubClass</th>\n",
       "      <th>MS Zoning</th>\n",
       "      <th>Lot Frontage</th>\n",
       "      <th>Lot Area</th>\n",
       "      <th>Street</th>\n",
       "      <th>Alley</th>\n",
       "      <th>Lot Shape</th>\n",
       "      <th>Land Contour</th>\n",
       "      <th>...</th>\n",
       "      <th>Pool Area</th>\n",
       "      <th>Pool QC</th>\n",
       "      <th>Fence</th>\n",
       "      <th>Misc Feature</th>\n",
       "      <th>Misc Val</th>\n",
       "      <th>Mo Sold</th>\n",
       "      <th>Yr Sold</th>\n",
       "      <th>Sale Type</th>\n",
       "      <th>Sale Condition</th>\n",
       "      <th>SalePrice</th>\n",
       "    </tr>\n",
       "  </thead>\n",
       "  <tbody>\n",
       "    <tr>\n",
       "      <th>0</th>\n",
       "      <td>484</td>\n",
       "      <td>528275070</td>\n",
       "      <td>60</td>\n",
       "      <td>RL</td>\n",
       "      <td>NaN</td>\n",
       "      <td>8795</td>\n",
       "      <td>Pave</td>\n",
       "      <td>NaN</td>\n",
       "      <td>IR1</td>\n",
       "      <td>Lvl</td>\n",
       "      <td>...</td>\n",
       "      <td>0</td>\n",
       "      <td>NaN</td>\n",
       "      <td>NaN</td>\n",
       "      <td>NaN</td>\n",
       "      <td>0</td>\n",
       "      <td>4</td>\n",
       "      <td>2009</td>\n",
       "      <td>WD</td>\n",
       "      <td>Normal</td>\n",
       "      <td>236000</td>\n",
       "    </tr>\n",
       "    <tr>\n",
       "      <th>1</th>\n",
       "      <td>2586</td>\n",
       "      <td>535305120</td>\n",
       "      <td>20</td>\n",
       "      <td>RL</td>\n",
       "      <td>75.0</td>\n",
       "      <td>10170</td>\n",
       "      <td>Pave</td>\n",
       "      <td>NaN</td>\n",
       "      <td>Reg</td>\n",
       "      <td>Lvl</td>\n",
       "      <td>...</td>\n",
       "      <td>0</td>\n",
       "      <td>NaN</td>\n",
       "      <td>NaN</td>\n",
       "      <td>NaN</td>\n",
       "      <td>0</td>\n",
       "      <td>6</td>\n",
       "      <td>2006</td>\n",
       "      <td>WD</td>\n",
       "      <td>Normal</td>\n",
       "      <td>155000</td>\n",
       "    </tr>\n",
       "    <tr>\n",
       "      <th>2</th>\n",
       "      <td>2289</td>\n",
       "      <td>923228250</td>\n",
       "      <td>160</td>\n",
       "      <td>RM</td>\n",
       "      <td>21.0</td>\n",
       "      <td>2001</td>\n",
       "      <td>Pave</td>\n",
       "      <td>NaN</td>\n",
       "      <td>Reg</td>\n",
       "      <td>Lvl</td>\n",
       "      <td>...</td>\n",
       "      <td>0</td>\n",
       "      <td>NaN</td>\n",
       "      <td>NaN</td>\n",
       "      <td>NaN</td>\n",
       "      <td>0</td>\n",
       "      <td>1</td>\n",
       "      <td>2007</td>\n",
       "      <td>WD</td>\n",
       "      <td>Normal</td>\n",
       "      <td>75000</td>\n",
       "    </tr>\n",
       "    <tr>\n",
       "      <th>3</th>\n",
       "      <td>142</td>\n",
       "      <td>535152150</td>\n",
       "      <td>20</td>\n",
       "      <td>RL</td>\n",
       "      <td>70.0</td>\n",
       "      <td>10552</td>\n",
       "      <td>Pave</td>\n",
       "      <td>NaN</td>\n",
       "      <td>IR1</td>\n",
       "      <td>Lvl</td>\n",
       "      <td>...</td>\n",
       "      <td>0</td>\n",
       "      <td>NaN</td>\n",
       "      <td>NaN</td>\n",
       "      <td>NaN</td>\n",
       "      <td>0</td>\n",
       "      <td>4</td>\n",
       "      <td>2010</td>\n",
       "      <td>WD</td>\n",
       "      <td>Normal</td>\n",
       "      <td>165500</td>\n",
       "    </tr>\n",
       "    <tr>\n",
       "      <th>4</th>\n",
       "      <td>2042</td>\n",
       "      <td>903475060</td>\n",
       "      <td>190</td>\n",
       "      <td>RM</td>\n",
       "      <td>60.0</td>\n",
       "      <td>10120</td>\n",
       "      <td>Pave</td>\n",
       "      <td>NaN</td>\n",
       "      <td>IR1</td>\n",
       "      <td>Bnk</td>\n",
       "      <td>...</td>\n",
       "      <td>0</td>\n",
       "      <td>NaN</td>\n",
       "      <td>MnPrv</td>\n",
       "      <td>NaN</td>\n",
       "      <td>0</td>\n",
       "      <td>1</td>\n",
       "      <td>2007</td>\n",
       "      <td>WD</td>\n",
       "      <td>Normal</td>\n",
       "      <td>122000</td>\n",
       "    </tr>\n",
       "  </tbody>\n",
       "</table>\n",
       "<p>5 rows × 82 columns</p>\n",
       "</div>"
      ],
      "text/plain": [
       "   Order        PID  MS SubClass MS Zoning  Lot Frontage  Lot Area Street  \\\n",
       "0    484  528275070           60        RL           NaN      8795   Pave   \n",
       "1   2586  535305120           20        RL          75.0     10170   Pave   \n",
       "2   2289  923228250          160        RM          21.0      2001   Pave   \n",
       "3    142  535152150           20        RL          70.0     10552   Pave   \n",
       "4   2042  903475060          190        RM          60.0     10120   Pave   \n",
       "\n",
       "  Alley Lot Shape Land Contour  ... Pool Area Pool QC  Fence Misc Feature  \\\n",
       "0   NaN       IR1          Lvl  ...         0     NaN    NaN          NaN   \n",
       "1   NaN       Reg          Lvl  ...         0     NaN    NaN          NaN   \n",
       "2   NaN       Reg          Lvl  ...         0     NaN    NaN          NaN   \n",
       "3   NaN       IR1          Lvl  ...         0     NaN    NaN          NaN   \n",
       "4   NaN       IR1          Bnk  ...         0     NaN  MnPrv          NaN   \n",
       "\n",
       "  Misc Val Mo Sold Yr Sold Sale Type  Sale Condition  SalePrice  \n",
       "0        0       4    2009       WD           Normal     236000  \n",
       "1        0       6    2006       WD           Normal     155000  \n",
       "2        0       1    2007       WD           Normal      75000  \n",
       "3        0       4    2010       WD           Normal     165500  \n",
       "4        0       1    2007       WD           Normal     122000  \n",
       "\n",
       "[5 rows x 82 columns]"
      ]
     },
     "execution_count": 454,
     "metadata": {},
     "output_type": "execute_result"
    }
   ],
   "source": [
    "# Load data\n",
    "data_df = pd.read_csv(\"house-prices.csv\")\n",
    "data_df.head()"
   ]
  },
  {
   "cell_type": "code",
   "execution_count": 455,
   "id": "ddfa177e-8d34-4b45-9774-f86184d61240",
   "metadata": {},
   "outputs": [
    {
     "data": {
      "text/plain": [
       "(2430, 82)"
      ]
     },
     "execution_count": 455,
     "metadata": {},
     "output_type": "execute_result"
    }
   ],
   "source": [
    "data_df.shape"
   ]
  },
  {
   "cell_type": "code",
   "execution_count": 548,
   "id": "eeb8da67-2bce-4f1f-b0b8-1ccc95c32183",
   "metadata": {},
   "outputs": [
    {
     "data": {
      "text/plain": [
       "(500, 81)"
      ]
     },
     "execution_count": 548,
     "metadata": {},
     "output_type": "execute_result"
    }
   ],
   "source": [
    "test_df = pd.read_csv(\"house-prices-test.csv\")\n",
    "test_df.shape"
   ]
  },
  {
   "cell_type": "code",
   "execution_count": 549,
   "id": "89ed2949-2223-4a4f-b383-c47628ed3cca",
   "metadata": {},
   "outputs": [
    {
     "data": {
      "text/html": [
       "<div>\n",
       "<style scoped>\n",
       "    .dataframe tbody tr th:only-of-type {\n",
       "        vertical-align: middle;\n",
       "    }\n",
       "\n",
       "    .dataframe tbody tr th {\n",
       "        vertical-align: top;\n",
       "    }\n",
       "\n",
       "    .dataframe thead th {\n",
       "        text-align: right;\n",
       "    }\n",
       "</style>\n",
       "<table border=\"1\" class=\"dataframe\">\n",
       "  <thead>\n",
       "    <tr style=\"text-align: right;\">\n",
       "      <th></th>\n",
       "      <th>Order</th>\n",
       "      <th>PID</th>\n",
       "      <th>MS SubClass</th>\n",
       "      <th>MS Zoning</th>\n",
       "      <th>Lot Frontage</th>\n",
       "      <th>Lot Area</th>\n",
       "      <th>Street</th>\n",
       "      <th>Alley</th>\n",
       "      <th>Lot Shape</th>\n",
       "      <th>Land Contour</th>\n",
       "      <th>...</th>\n",
       "      <th>Screen Porch</th>\n",
       "      <th>Pool Area</th>\n",
       "      <th>Pool QC</th>\n",
       "      <th>Fence</th>\n",
       "      <th>Misc Feature</th>\n",
       "      <th>Misc Val</th>\n",
       "      <th>Mo Sold</th>\n",
       "      <th>Yr Sold</th>\n",
       "      <th>Sale Type</th>\n",
       "      <th>Sale Condition</th>\n",
       "    </tr>\n",
       "  </thead>\n",
       "  <tbody>\n",
       "    <tr>\n",
       "      <th>0</th>\n",
       "      <td>2217</td>\n",
       "      <td>909279080</td>\n",
       "      <td>50</td>\n",
       "      <td>RL</td>\n",
       "      <td>NaN</td>\n",
       "      <td>11275</td>\n",
       "      <td>Pave</td>\n",
       "      <td>NaN</td>\n",
       "      <td>IR1</td>\n",
       "      <td>HLS</td>\n",
       "      <td>...</td>\n",
       "      <td>0</td>\n",
       "      <td>0</td>\n",
       "      <td>NaN</td>\n",
       "      <td>NaN</td>\n",
       "      <td>NaN</td>\n",
       "      <td>0</td>\n",
       "      <td>3</td>\n",
       "      <td>2007</td>\n",
       "      <td>WD</td>\n",
       "      <td>Normal</td>\n",
       "    </tr>\n",
       "    <tr>\n",
       "      <th>1</th>\n",
       "      <td>837</td>\n",
       "      <td>907126050</td>\n",
       "      <td>20</td>\n",
       "      <td>RL</td>\n",
       "      <td>65.0</td>\n",
       "      <td>9757</td>\n",
       "      <td>Pave</td>\n",
       "      <td>NaN</td>\n",
       "      <td>Reg</td>\n",
       "      <td>Low</td>\n",
       "      <td>...</td>\n",
       "      <td>92</td>\n",
       "      <td>0</td>\n",
       "      <td>NaN</td>\n",
       "      <td>NaN</td>\n",
       "      <td>NaN</td>\n",
       "      <td>0</td>\n",
       "      <td>10</td>\n",
       "      <td>2009</td>\n",
       "      <td>WD</td>\n",
       "      <td>Normal</td>\n",
       "    </tr>\n",
       "    <tr>\n",
       "      <th>2</th>\n",
       "      <td>2397</td>\n",
       "      <td>528144030</td>\n",
       "      <td>60</td>\n",
       "      <td>RL</td>\n",
       "      <td>86.0</td>\n",
       "      <td>11065</td>\n",
       "      <td>Pave</td>\n",
       "      <td>NaN</td>\n",
       "      <td>IR1</td>\n",
       "      <td>Lvl</td>\n",
       "      <td>...</td>\n",
       "      <td>0</td>\n",
       "      <td>0</td>\n",
       "      <td>NaN</td>\n",
       "      <td>NaN</td>\n",
       "      <td>NaN</td>\n",
       "      <td>0</td>\n",
       "      <td>10</td>\n",
       "      <td>2006</td>\n",
       "      <td>New</td>\n",
       "      <td>Partial</td>\n",
       "    </tr>\n",
       "    <tr>\n",
       "      <th>3</th>\n",
       "      <td>1963</td>\n",
       "      <td>535452060</td>\n",
       "      <td>20</td>\n",
       "      <td>RL</td>\n",
       "      <td>70.0</td>\n",
       "      <td>7000</td>\n",
       "      <td>Pave</td>\n",
       "      <td>NaN</td>\n",
       "      <td>Reg</td>\n",
       "      <td>Lvl</td>\n",
       "      <td>...</td>\n",
       "      <td>0</td>\n",
       "      <td>0</td>\n",
       "      <td>NaN</td>\n",
       "      <td>MnWw</td>\n",
       "      <td>NaN</td>\n",
       "      <td>0</td>\n",
       "      <td>4</td>\n",
       "      <td>2007</td>\n",
       "      <td>WD</td>\n",
       "      <td>Family</td>\n",
       "    </tr>\n",
       "    <tr>\n",
       "      <th>4</th>\n",
       "      <td>306</td>\n",
       "      <td>911202100</td>\n",
       "      <td>50</td>\n",
       "      <td>C (all)</td>\n",
       "      <td>66.0</td>\n",
       "      <td>8712</td>\n",
       "      <td>Pave</td>\n",
       "      <td>Pave</td>\n",
       "      <td>Reg</td>\n",
       "      <td>HLS</td>\n",
       "      <td>...</td>\n",
       "      <td>0</td>\n",
       "      <td>0</td>\n",
       "      <td>NaN</td>\n",
       "      <td>NaN</td>\n",
       "      <td>NaN</td>\n",
       "      <td>0</td>\n",
       "      <td>1</td>\n",
       "      <td>2010</td>\n",
       "      <td>WD</td>\n",
       "      <td>Abnorml</td>\n",
       "    </tr>\n",
       "  </tbody>\n",
       "</table>\n",
       "<p>5 rows × 81 columns</p>\n",
       "</div>"
      ],
      "text/plain": [
       "   Order        PID  MS SubClass MS Zoning  Lot Frontage  Lot Area Street  \\\n",
       "0   2217  909279080           50        RL           NaN     11275   Pave   \n",
       "1    837  907126050           20        RL          65.0      9757   Pave   \n",
       "2   2397  528144030           60        RL          86.0     11065   Pave   \n",
       "3   1963  535452060           20        RL          70.0      7000   Pave   \n",
       "4    306  911202100           50   C (all)          66.0      8712   Pave   \n",
       "\n",
       "  Alley Lot Shape Land Contour  ... Screen Porch Pool Area Pool QC Fence  \\\n",
       "0   NaN       IR1          HLS  ...            0         0     NaN   NaN   \n",
       "1   NaN       Reg          Low  ...           92         0     NaN   NaN   \n",
       "2   NaN       IR1          Lvl  ...            0         0     NaN   NaN   \n",
       "3   NaN       Reg          Lvl  ...            0         0     NaN  MnWw   \n",
       "4  Pave       Reg          HLS  ...            0         0     NaN   NaN   \n",
       "\n",
       "  Misc Feature Misc Val Mo Sold Yr Sold  Sale Type  Sale Condition  \n",
       "0          NaN        0       3    2007        WD           Normal  \n",
       "1          NaN        0      10    2009        WD           Normal  \n",
       "2          NaN        0      10    2006        New         Partial  \n",
       "3          NaN        0       4    2007        WD           Family  \n",
       "4          NaN        0       1    2010        WD          Abnorml  \n",
       "\n",
       "[5 rows x 81 columns]"
      ]
     },
     "execution_count": 549,
     "metadata": {},
     "output_type": "execute_result"
    }
   ],
   "source": [
    "test_df.head()"
   ]
  },
  {
   "cell_type": "markdown",
   "id": "2f34c487-04c1-4afd-8c59-d380ceab1dc0",
   "metadata": {},
   "source": [
    "- Address missing values first "
   ]
  },
  {
   "cell_type": "code",
   "execution_count": 458,
   "id": "ec2b82d0-816e-4cd2-b63a-29cc08d0dabb",
   "metadata": {},
   "outputs": [
    {
     "name": "stdout",
     "output_type": "stream",
     "text": [
      "<class 'pandas.core.frame.DataFrame'>\n",
      "RangeIndex: 2430 entries, 0 to 2429\n",
      "Data columns (total 82 columns):\n",
      " #   Column           Non-Null Count  Dtype  \n",
      "---  ------           --------------  -----  \n",
      " 0   Order            2430 non-null   int64  \n",
      " 1   PID              2430 non-null   int64  \n",
      " 2   MS SubClass      2430 non-null   int64  \n",
      " 3   MS Zoning        2430 non-null   object \n",
      " 4   Lot Frontage     2010 non-null   float64\n",
      " 5   Lot Area         2430 non-null   int64  \n",
      " 6   Street           2430 non-null   object \n",
      " 7   Alley            163 non-null    object \n",
      " 8   Lot Shape        2430 non-null   object \n",
      " 9   Land Contour     2430 non-null   object \n",
      " 10  Utilities        2430 non-null   object \n",
      " 11  Lot Config       2430 non-null   object \n",
      " 12  Land Slope       2430 non-null   object \n",
      " 13  Neighborhood     2430 non-null   object \n",
      " 14  Condition 1      2430 non-null   object \n",
      " 15  Condition 2      2430 non-null   object \n",
      " 16  Bldg Type        2430 non-null   object \n",
      " 17  House Style      2430 non-null   object \n",
      " 18  Overall Qual     2430 non-null   int64  \n",
      " 19  Overall Cond     2430 non-null   int64  \n",
      " 20  Year Built       2430 non-null   int64  \n",
      " 21  Year Remod/Add   2430 non-null   int64  \n",
      " 22  Roof Style       2430 non-null   object \n",
      " 23  Roof Matl        2430 non-null   object \n",
      " 24  Exterior 1st     2430 non-null   object \n",
      " 25  Exterior 2nd     2430 non-null   object \n",
      " 26  Mas Vnr Type     2410 non-null   object \n",
      " 27  Mas Vnr Area     2410 non-null   float64\n",
      " 28  Exter Qual       2430 non-null   object \n",
      " 29  Exter Cond       2430 non-null   object \n",
      " 30  Foundation       2430 non-null   object \n",
      " 31  Bsmt Qual        2359 non-null   object \n",
      " 32  Bsmt Cond        2359 non-null   object \n",
      " 33  Bsmt Exposure    2356 non-null   object \n",
      " 34  BsmtFin Type 1   2359 non-null   object \n",
      " 35  BsmtFin SF 1     2429 non-null   float64\n",
      " 36  BsmtFin Type 2   2358 non-null   object \n",
      " 37  BsmtFin SF 2     2429 non-null   float64\n",
      " 38  Bsmt Unf SF      2429 non-null   float64\n",
      " 39  Total Bsmt SF    2429 non-null   float64\n",
      " 40  Heating          2430 non-null   object \n",
      " 41  Heating QC       2430 non-null   object \n",
      " 42  Central Air      2430 non-null   object \n",
      " 43  Electrical       2429 non-null   object \n",
      " 44  1st Flr SF       2430 non-null   int64  \n",
      " 45  2nd Flr SF       2430 non-null   int64  \n",
      " 46  Low Qual Fin SF  2430 non-null   int64  \n",
      " 47  Gr Liv Area      2430 non-null   int64  \n",
      " 48  Bsmt Full Bath   2428 non-null   float64\n",
      " 49  Bsmt Half Bath   2428 non-null   float64\n",
      " 50  Full Bath        2430 non-null   int64  \n",
      " 51  Half Bath        2430 non-null   int64  \n",
      " 52  Bedroom AbvGr    2430 non-null   int64  \n",
      " 53  Kitchen AbvGr    2430 non-null   int64  \n",
      " 54  Kitchen Qual     2430 non-null   object \n",
      " 55  TotRms AbvGrd    2430 non-null   int64  \n",
      " 56  Functional       2430 non-null   object \n",
      " 57  Fireplaces       2430 non-null   int64  \n",
      " 58  Fireplace Qu     1244 non-null   object \n",
      " 59  Garage Type      2294 non-null   object \n",
      " 60  Garage Yr Blt    2292 non-null   float64\n",
      " 61  Garage Finish    2292 non-null   object \n",
      " 62  Garage Cars      2429 non-null   float64\n",
      " 63  Garage Area      2429 non-null   float64\n",
      " 64  Garage Qual      2292 non-null   object \n",
      " 65  Garage Cond      2292 non-null   object \n",
      " 66  Paved Drive      2430 non-null   object \n",
      " 67  Wood Deck SF     2430 non-null   int64  \n",
      " 68  Open Porch SF    2430 non-null   int64  \n",
      " 69  Enclosed Porch   2430 non-null   int64  \n",
      " 70  3Ssn Porch       2430 non-null   int64  \n",
      " 71  Screen Porch     2430 non-null   int64  \n",
      " 72  Pool Area        2430 non-null   int64  \n",
      " 73  Pool QC          12 non-null     object \n",
      " 74  Fence            489 non-null    object \n",
      " 75  Misc Feature     90 non-null     object \n",
      " 76  Misc Val         2430 non-null   int64  \n",
      " 77  Mo Sold          2430 non-null   int64  \n",
      " 78  Yr Sold          2430 non-null   int64  \n",
      " 79  Sale Type        2430 non-null   object \n",
      " 80  Sale Condition   2430 non-null   object \n",
      " 81  SalePrice        2430 non-null   int64  \n",
      "dtypes: float64(11), int64(28), object(43)\n",
      "memory usage: 1.5+ MB\n"
     ]
    }
   ],
   "source": [
    "#check the missing values counts\n",
    "data_df.info()"
   ]
  },
  {
   "cell_type": "code",
   "execution_count": 459,
   "id": "69fc85d5-a05a-4629-b218-e970d1b6db51",
   "metadata": {},
   "outputs": [
    {
     "name": "stdout",
     "output_type": "stream",
     "text": [
      "<class 'pandas.core.frame.DataFrame'>\n",
      "RangeIndex: 500 entries, 0 to 499\n",
      "Data columns (total 81 columns):\n",
      " #   Column           Non-Null Count  Dtype  \n",
      "---  ------           --------------  -----  \n",
      " 0   Order            500 non-null    int64  \n",
      " 1   PID              500 non-null    int64  \n",
      " 2   MS SubClass      500 non-null    int64  \n",
      " 3   MS Zoning        500 non-null    object \n",
      " 4   Lot Frontage     430 non-null    float64\n",
      " 5   Lot Area         500 non-null    int64  \n",
      " 6   Street           500 non-null    object \n",
      " 7   Alley            35 non-null     object \n",
      " 8   Lot Shape        500 non-null    object \n",
      " 9   Land Contour     500 non-null    object \n",
      " 10  Utilities        500 non-null    object \n",
      " 11  Lot Config       500 non-null    object \n",
      " 12  Land Slope       500 non-null    object \n",
      " 13  Neighborhood     500 non-null    object \n",
      " 14  Condition 1      500 non-null    object \n",
      " 15  Condition 2      500 non-null    object \n",
      " 16  Bldg Type        500 non-null    object \n",
      " 17  House Style      500 non-null    object \n",
      " 18  Overall Qual     500 non-null    int64  \n",
      " 19  Overall Cond     500 non-null    int64  \n",
      " 20  Year Built       500 non-null    int64  \n",
      " 21  Year Remod/Add   500 non-null    int64  \n",
      " 22  Roof Style       500 non-null    object \n",
      " 23  Roof Matl        500 non-null    object \n",
      " 24  Exterior 1st     500 non-null    object \n",
      " 25  Exterior 2nd     500 non-null    object \n",
      " 26  Mas Vnr Type     497 non-null    object \n",
      " 27  Mas Vnr Area     497 non-null    float64\n",
      " 28  Exter Qual       500 non-null    object \n",
      " 29  Exter Cond       500 non-null    object \n",
      " 30  Foundation       500 non-null    object \n",
      " 31  Bsmt Qual        491 non-null    object \n",
      " 32  Bsmt Cond        491 non-null    object \n",
      " 33  Bsmt Exposure    491 non-null    object \n",
      " 34  BsmtFin Type 1   491 non-null    object \n",
      " 35  BsmtFin SF 1     500 non-null    float64\n",
      " 36  BsmtFin Type 2   491 non-null    object \n",
      " 37  BsmtFin SF 2     500 non-null    float64\n",
      " 38  Bsmt Unf SF      500 non-null    float64\n",
      " 39  Total Bsmt SF    500 non-null    float64\n",
      " 40  Heating          500 non-null    object \n",
      " 41  Heating QC       500 non-null    object \n",
      " 42  Central Air      500 non-null    object \n",
      " 43  Electrical       500 non-null    object \n",
      " 44  1st Flr SF       500 non-null    int64  \n",
      " 45  2nd Flr SF       500 non-null    int64  \n",
      " 46  Low Qual Fin SF  500 non-null    int64  \n",
      " 47  Gr Liv Area      500 non-null    int64  \n",
      " 48  Bsmt Full Bath   500 non-null    float64\n",
      " 49  Bsmt Half Bath   500 non-null    float64\n",
      " 50  Full Bath        500 non-null    int64  \n",
      " 51  Half Bath        500 non-null    int64  \n",
      " 52  Bedroom AbvGr    500 non-null    int64  \n",
      " 53  Kitchen AbvGr    500 non-null    int64  \n",
      " 54  Kitchen Qual     500 non-null    object \n",
      " 55  TotRms AbvGrd    500 non-null    int64  \n",
      " 56  Functional       500 non-null    object \n",
      " 57  Fireplaces       500 non-null    int64  \n",
      " 58  Fireplace Qu     264 non-null    object \n",
      " 59  Garage Type      479 non-null    object \n",
      " 60  Garage Yr Blt    479 non-null    float64\n",
      " 61  Garage Finish    479 non-null    object \n",
      " 62  Garage Cars      500 non-null    float64\n",
      " 63  Garage Area      500 non-null    float64\n",
      " 64  Garage Qual      479 non-null    object \n",
      " 65  Garage Cond      479 non-null    object \n",
      " 66  Paved Drive      500 non-null    object \n",
      " 67  Wood Deck SF     500 non-null    int64  \n",
      " 68  Open Porch SF    500 non-null    int64  \n",
      " 69  Enclosed Porch   500 non-null    int64  \n",
      " 70  3Ssn Porch       500 non-null    int64  \n",
      " 71  Screen Porch     500 non-null    int64  \n",
      " 72  Pool Area        500 non-null    int64  \n",
      " 73  Pool QC          1 non-null      object \n",
      " 74  Fence            83 non-null     object \n",
      " 75  Misc Feature     16 non-null     object \n",
      " 76  Misc Val         500 non-null    int64  \n",
      " 77  Mo Sold          500 non-null    int64  \n",
      " 78  Yr Sold          500 non-null    int64  \n",
      " 79  Sale Type        500 non-null    object \n",
      " 80  Sale Condition   500 non-null    object \n",
      "dtypes: float64(11), int64(27), object(43)\n",
      "memory usage: 316.5+ KB\n"
     ]
    }
   ],
   "source": [
    "test_df.info()"
   ]
  },
  {
   "cell_type": "code",
   "execution_count": null,
   "id": "5184ac3d-058a-4a9d-81a5-37dc3290a077",
   "metadata": {},
   "outputs": [],
   "source": []
  },
  {
   "cell_type": "markdown",
   "id": "15c56710-f5e7-468f-bafc-51bf375c738b",
   "metadata": {},
   "source": [
    "There are few columns with quite a big amount of Nan values (for ex: Alley, Pool Qu, etc.). These are object types, so missing values can be replaced by 'missing', as presumably not all houses have 'Alley' in their address or fences for example. "
   ]
  },
  {
   "cell_type": "code",
   "execution_count": 460,
   "id": "5a8566a5-cb9d-470c-a580-e6098410b77a",
   "metadata": {},
   "outputs": [],
   "source": [
    "data_df[\"Alley\"].fillna(value=\"no_value\", inplace=True)\n",
    "data_df['Fireplace Qu'].fillna(value=\"no_value\", inplace=True)\n",
    "data_df['Pool QC'].fillna(value=\"no_value\", inplace=True)\n",
    "data_df['Fence'].fillna(value=\"no_value\", inplace=True)\n",
    "data_df['Misc Feature'].fillna(value=\"no_value\", inplace=True)\n",
    "data_df[\"Garage Finish\"].fillna(value=\"no_value\", inplace=True)\n",
    "data_df['Garage Qual'].fillna(value=\"no_value\", inplace=True)\n",
    "data_df['Garage Qual'].fillna(value=\"no_value\", inplace=True)\n",
    "data_df['Fence'].fillna(value=\"no_value\", inplace=True)\n",
    "data_df['Bsmt Qual'].fillna(value=\"no_value\", inplace=True)\n",
    "data_df['Bsmt Cond'].fillna(value=\"no_value\", inplace=True)\n",
    "data_df[\"Bsmt Exposure\"].fillna(value=\"no_value\", inplace=True)\n",
    "data_df['BsmtFin Type 1'].fillna(value=\"no_value\", inplace=True)\n",
    "data_df['Electrical'].fillna(value=\"no_value\", inplace=True)\n",
    "data_df['Kitchen Qual'].fillna(value=\"no_value\", inplace=True)\n",
    "data_df['Mas Vnr Area'].fillna(value=\"0\", inplace=True)\n",
    "data_df['Lot Frontage'].fillna(value=\"0\", inplace=True)\n",
    "data_df['Mas Vnr Type'].fillna(value=\"no_value\", inplace=True)\n",
    "data_df['BsmtFin SF 1'].fillna(value=\"0\", inplace=True)\n",
    "data_df['BsmtFin Type 2'].fillna(value=\"0\", inplace=True)\n",
    "data_df['BsmtFin SF 2'].fillna(value=\"0\", inplace=True)\n",
    "data_df['Bsmt Unf SF'].fillna(value=\"0\", inplace=True)\n",
    "data_df['Total Bsmt SF'].fillna(value=\"0\", inplace=True)\n",
    "data_df['Bsmt Full Bath'].fillna(value=\"0\", inplace=True)\n",
    "data_df['Bsmt Half Bath'].fillna(value=\"0\", inplace=True)\n",
    "data_df['Garage Type'].fillna(value=\"no_value\", inplace=True)\n",
    "data_df['Garage Yr Blt'].fillna(value=\"0\", inplace=True)\n",
    "data_df['Garage Cond'].fillna(value=\"no_value\", inplace=True)\n",
    "data_df['Garage Cars'].fillna(value=\"0\", inplace=True)\n",
    "data_df['Garage Area'].fillna(value=\"0\", inplace=True)"
   ]
  },
  {
   "cell_type": "code",
   "execution_count": 550,
   "id": "fa5d4cae-9c42-4f5c-aab3-2f6f17e80c5c",
   "metadata": {},
   "outputs": [],
   "source": [
    "test_df[\"Alley\"].fillna(value=\"no_value\", inplace=True)\n",
    "test_df['Fireplace Qu'].fillna(value=\"no_value\", inplace=True)\n",
    "test_df['Pool QC'].fillna(value=\"no_value\", inplace=True)\n",
    "test_df['Fence'].fillna(value=\"no_value\", inplace=True)\n",
    "test_df['Misc Feature'].fillna(value=\"no_value\", inplace=True)\n",
    "test_df[\"Garage Finish\"].fillna(value=\"no_value\", inplace=True)\n",
    "test_df['Garage Qual'].fillna(value=\"no_value\", inplace=True)\n",
    "test_df['Garage Qual'].fillna(value=\"no_value\", inplace=True)\n",
    "test_df['Fence'].fillna(value=\"no_value\", inplace=True)\n",
    "test_df['Bsmt Qual'].fillna(value=\"no_value\", inplace=True)\n",
    "test_df['Bsmt Cond'].fillna(value=\"no_value\", inplace=True)\n",
    "test_df[\"Bsmt Exposure\"].fillna(value=\"no_value\", inplace=True)\n",
    "test_df['BsmtFin Type 1'].fillna(value=\"no_value\", inplace=True)\n",
    "test_df['Electrical'].fillna(value=\"no_value\", inplace=True)\n",
    "test_df['Kitchen Qual'].fillna(value=\"no_value\", inplace=True)\n",
    "test_df['Mas Vnr Area'].fillna(value=\"0\", inplace=True)\n",
    "test_df['Lot Frontage'].fillna(value=\"0\", inplace=True)\n",
    "test_df['Mas Vnr Type'].fillna(value=\"no_value\", inplace=True)\n",
    "test_df['BsmtFin SF 1'].fillna(value=\"0\", inplace=True)\n",
    "test_df['BsmtFin Type 2'].fillna(value=\"0\", inplace=True)\n",
    "test_df['BsmtFin SF 2'].fillna(value=\"0\", inplace=True)\n",
    "test_df['Bsmt Unf SF'].fillna(value=\"0\", inplace=True)\n",
    "test_df['Total Bsmt SF'].fillna(value=\"0\", inplace=True)\n",
    "test_df['Bsmt Full Bath'].fillna(value=\"0\", inplace=True)\n",
    "test_df['Bsmt Half Bath'].fillna(value=\"0\", inplace=True)\n",
    "test_df['Garage Type'].fillna(value=\"no_value\", inplace=True)\n",
    "test_df['Garage Yr Blt'].fillna(value=\"0\", inplace=True)\n",
    "test_df['Garage Cond'].fillna(value=\"no_value\", inplace=True)\n",
    "test_df['Year Built'].fillna(value=\"0\", inplace=True)\n",
    "test_df['Year Remod/Add'].fillna(value=\"0\", inplace=True)\n",
    "test_df['Garage Yr Blt'].fillna(value=\"0\", inplace=True)\n"
   ]
  },
  {
   "cell_type": "markdown",
   "id": "a7c065f4-fe3f-4de5-a716-ccb5043f4ba9",
   "metadata": {},
   "source": [
    "Now let's verify if there are any columns left with any Nan values"
   ]
  },
  {
   "cell_type": "code",
   "execution_count": 462,
   "id": "e3ee7bf6-2d03-4ec4-ac22-00bd5280ce60",
   "metadata": {},
   "outputs": [
    {
     "data": {
      "text/plain": [
       "[]"
      ]
     },
     "execution_count": 462,
     "metadata": {},
     "output_type": "execute_result"
    }
   ],
   "source": [
    "# train data check\n",
    "data_df.columns[data_df.isna().any()].tolist()"
   ]
  },
  {
   "cell_type": "code",
   "execution_count": 463,
   "id": "0608da65-d023-45a8-8c57-fb0292a38535",
   "metadata": {},
   "outputs": [
    {
     "data": {
      "text/plain": [
       "[]"
      ]
     },
     "execution_count": 463,
     "metadata": {},
     "output_type": "execute_result"
    }
   ],
   "source": [
    "#test data check\n",
    "test_df.columns[test_df.isna().any()].tolist()"
   ]
  },
  {
   "cell_type": "markdown",
   "id": "bc48ffe8-7d2f-47a4-9715-995725471177",
   "metadata": {},
   "source": [
    "- Dealing with inconsistent data"
   ]
  },
  {
   "cell_type": "markdown",
   "id": "8619c450-199f-4609-9162-3a8fe5ab577f",
   "metadata": {},
   "source": [
    "Let's look at the Sales price stats first"
   ]
  },
  {
   "cell_type": "code",
   "execution_count": 464,
   "id": "484ead4c-6b83-4379-b11f-349eb73548b1",
   "metadata": {},
   "outputs": [
    {
     "data": {
      "image/png": "[encoded data removed]",
      "text/plain": [
       "<Figure size 432x288 with 1 Axes>"
      ]
     },
     "metadata": {
      "needs_background": "light"
     },
     "output_type": "display_data"
    }
   ],
   "source": [
    "%matplotlib inline\n",
    "import matplotlib.pyplot as plt\n",
    "\n",
    "data_df.hist(column=\"SalePrice\", bins=20, grid=False, xrot=45)\n",
    "plt.show()"
   ]
  },
  {
   "cell_type": "markdown",
   "id": "f3b7cf18-79db-4277-b891-2c405c400224",
   "metadata": {},
   "source": [
    "The price destribution is right skewed. Let's look further at features' statistical description."
   ]
  },
  {
   "cell_type": "code",
   "execution_count": 465,
   "id": "a6b95427-1fd0-4eb1-8477-3aa3736edd74",
   "metadata": {},
   "outputs": [
    {
     "data": {
      "text/html": [
       "<div>\n",
       "<style scoped>\n",
       "    .dataframe tbody tr th:only-of-type {\n",
       "        vertical-align: middle;\n",
       "    }\n",
       "\n",
       "    .dataframe tbody tr th {\n",
       "        vertical-align: top;\n",
       "    }\n",
       "\n",
       "    .dataframe thead th {\n",
       "        text-align: right;\n",
       "    }\n",
       "</style>\n",
       "<table border=\"1\" class=\"dataframe\">\n",
       "  <thead>\n",
       "    <tr style=\"text-align: right;\">\n",
       "      <th></th>\n",
       "      <th>Order</th>\n",
       "      <th>PID</th>\n",
       "      <th>MS SubClass</th>\n",
       "      <th>Lot Area</th>\n",
       "      <th>Overall Qual</th>\n",
       "      <th>Overall Cond</th>\n",
       "      <th>Year Built</th>\n",
       "      <th>Year Remod/Add</th>\n",
       "      <th>1st Flr SF</th>\n",
       "      <th>2nd Flr SF</th>\n",
       "      <th>...</th>\n",
       "      <th>Wood Deck SF</th>\n",
       "      <th>Open Porch SF</th>\n",
       "      <th>Enclosed Porch</th>\n",
       "      <th>3Ssn Porch</th>\n",
       "      <th>Screen Porch</th>\n",
       "      <th>Pool Area</th>\n",
       "      <th>Misc Val</th>\n",
       "      <th>Mo Sold</th>\n",
       "      <th>Yr Sold</th>\n",
       "      <th>SalePrice</th>\n",
       "    </tr>\n",
       "  </thead>\n",
       "  <tbody>\n",
       "    <tr>\n",
       "      <th>count</th>\n",
       "      <td>2430.000000</td>\n",
       "      <td>2.430000e+03</td>\n",
       "      <td>2430.000000</td>\n",
       "      <td>2430.000000</td>\n",
       "      <td>2430.000000</td>\n",
       "      <td>2430.000000</td>\n",
       "      <td>2430.000000</td>\n",
       "      <td>2430.000000</td>\n",
       "      <td>2430.000000</td>\n",
       "      <td>2430.000000</td>\n",
       "      <td>...</td>\n",
       "      <td>2430.000000</td>\n",
       "      <td>2430.000000</td>\n",
       "      <td>2430.000000</td>\n",
       "      <td>2430.000000</td>\n",
       "      <td>2430.000000</td>\n",
       "      <td>2430.000000</td>\n",
       "      <td>2430.000000</td>\n",
       "      <td>2430.000000</td>\n",
       "      <td>2430.000000</td>\n",
       "      <td>2430.000000</td>\n",
       "    </tr>\n",
       "    <tr>\n",
       "      <th>mean</th>\n",
       "      <td>1469.478189</td>\n",
       "      <td>7.149375e+08</td>\n",
       "      <td>57.092593</td>\n",
       "      <td>10243.557613</td>\n",
       "      <td>6.088889</td>\n",
       "      <td>5.569959</td>\n",
       "      <td>1971.167490</td>\n",
       "      <td>1984.238683</td>\n",
       "      <td>1159.845267</td>\n",
       "      <td>326.672840</td>\n",
       "      <td>...</td>\n",
       "      <td>93.917695</td>\n",
       "      <td>47.091770</td>\n",
       "      <td>22.294650</td>\n",
       "      <td>2.471605</td>\n",
       "      <td>16.529218</td>\n",
       "      <td>2.401235</td>\n",
       "      <td>56.179835</td>\n",
       "      <td>6.209465</td>\n",
       "      <td>2007.783539</td>\n",
       "      <td>180199.692593</td>\n",
       "    </tr>\n",
       "    <tr>\n",
       "      <th>std</th>\n",
       "      <td>843.236520</td>\n",
       "      <td>1.887339e+08</td>\n",
       "      <td>42.903254</td>\n",
       "      <td>8353.925254</td>\n",
       "      <td>1.414621</td>\n",
       "      <td>1.116442</td>\n",
       "      <td>30.207931</td>\n",
       "      <td>20.751163</td>\n",
       "      <td>393.097610</td>\n",
       "      <td>419.490754</td>\n",
       "      <td>...</td>\n",
       "      <td>128.106940</td>\n",
       "      <td>67.123846</td>\n",
       "      <td>62.386414</td>\n",
       "      <td>24.880245</td>\n",
       "      <td>56.822227</td>\n",
       "      <td>36.111988</td>\n",
       "      <td>616.661541</td>\n",
       "      <td>2.721942</td>\n",
       "      <td>1.311843</td>\n",
       "      <td>79607.467171</td>\n",
       "    </tr>\n",
       "    <tr>\n",
       "      <th>min</th>\n",
       "      <td>1.000000</td>\n",
       "      <td>5.263011e+08</td>\n",
       "      <td>20.000000</td>\n",
       "      <td>1470.000000</td>\n",
       "      <td>1.000000</td>\n",
       "      <td>1.000000</td>\n",
       "      <td>1875.000000</td>\n",
       "      <td>1950.000000</td>\n",
       "      <td>334.000000</td>\n",
       "      <td>0.000000</td>\n",
       "      <td>...</td>\n",
       "      <td>0.000000</td>\n",
       "      <td>0.000000</td>\n",
       "      <td>0.000000</td>\n",
       "      <td>0.000000</td>\n",
       "      <td>0.000000</td>\n",
       "      <td>0.000000</td>\n",
       "      <td>0.000000</td>\n",
       "      <td>1.000000</td>\n",
       "      <td>2006.000000</td>\n",
       "      <td>12789.000000</td>\n",
       "    </tr>\n",
       "    <tr>\n",
       "      <th>25%</th>\n",
       "      <td>749.250000</td>\n",
       "      <td>5.284770e+08</td>\n",
       "      <td>20.000000</td>\n",
       "      <td>7482.000000</td>\n",
       "      <td>5.000000</td>\n",
       "      <td>5.000000</td>\n",
       "      <td>1954.000000</td>\n",
       "      <td>1966.000000</td>\n",
       "      <td>880.500000</td>\n",
       "      <td>0.000000</td>\n",
       "      <td>...</td>\n",
       "      <td>0.000000</td>\n",
       "      <td>0.000000</td>\n",
       "      <td>0.000000</td>\n",
       "      <td>0.000000</td>\n",
       "      <td>0.000000</td>\n",
       "      <td>0.000000</td>\n",
       "      <td>0.000000</td>\n",
       "      <td>4.000000</td>\n",
       "      <td>2007.000000</td>\n",
       "      <td>129000.000000</td>\n",
       "    </tr>\n",
       "    <tr>\n",
       "      <th>50%</th>\n",
       "      <td>1470.500000</td>\n",
       "      <td>5.354541e+08</td>\n",
       "      <td>50.000000</td>\n",
       "      <td>9500.000000</td>\n",
       "      <td>6.000000</td>\n",
       "      <td>5.000000</td>\n",
       "      <td>1973.000000</td>\n",
       "      <td>1993.000000</td>\n",
       "      <td>1086.000000</td>\n",
       "      <td>0.000000</td>\n",
       "      <td>...</td>\n",
       "      <td>0.000000</td>\n",
       "      <td>27.000000</td>\n",
       "      <td>0.000000</td>\n",
       "      <td>0.000000</td>\n",
       "      <td>0.000000</td>\n",
       "      <td>0.000000</td>\n",
       "      <td>0.000000</td>\n",
       "      <td>6.000000</td>\n",
       "      <td>2008.000000</td>\n",
       "      <td>160000.000000</td>\n",
       "    </tr>\n",
       "    <tr>\n",
       "      <th>75%</th>\n",
       "      <td>2193.500000</td>\n",
       "      <td>9.071352e+08</td>\n",
       "      <td>70.000000</td>\n",
       "      <td>11604.500000</td>\n",
       "      <td>7.000000</td>\n",
       "      <td>6.000000</td>\n",
       "      <td>2000.000000</td>\n",
       "      <td>2003.000000</td>\n",
       "      <td>1387.750000</td>\n",
       "      <td>698.000000</td>\n",
       "      <td>...</td>\n",
       "      <td>168.000000</td>\n",
       "      <td>70.000000</td>\n",
       "      <td>0.000000</td>\n",
       "      <td>0.000000</td>\n",
       "      <td>0.000000</td>\n",
       "      <td>0.000000</td>\n",
       "      <td>0.000000</td>\n",
       "      <td>8.000000</td>\n",
       "      <td>2009.000000</td>\n",
       "      <td>213099.750000</td>\n",
       "    </tr>\n",
       "    <tr>\n",
       "      <th>max</th>\n",
       "      <td>2930.000000</td>\n",
       "      <td>1.007100e+09</td>\n",
       "      <td>190.000000</td>\n",
       "      <td>215245.000000</td>\n",
       "      <td>10.000000</td>\n",
       "      <td>9.000000</td>\n",
       "      <td>2010.000000</td>\n",
       "      <td>2010.000000</td>\n",
       "      <td>5095.000000</td>\n",
       "      <td>2065.000000</td>\n",
       "      <td>...</td>\n",
       "      <td>1424.000000</td>\n",
       "      <td>742.000000</td>\n",
       "      <td>1012.000000</td>\n",
       "      <td>508.000000</td>\n",
       "      <td>490.000000</td>\n",
       "      <td>800.000000</td>\n",
       "      <td>17000.000000</td>\n",
       "      <td>12.000000</td>\n",
       "      <td>2010.000000</td>\n",
       "      <td>755000.000000</td>\n",
       "    </tr>\n",
       "  </tbody>\n",
       "</table>\n",
       "<p>8 rows × 28 columns</p>\n",
       "</div>"
      ],
      "text/plain": [
       "             Order           PID  MS SubClass       Lot Area  Overall Qual  \\\n",
       "count  2430.000000  2.430000e+03  2430.000000    2430.000000   2430.000000   \n",
       "mean   1469.478189  7.149375e+08    57.092593   10243.557613      6.088889   \n",
       "std     843.236520  1.887339e+08    42.903254    8353.925254      1.414621   \n",
       "min       1.000000  5.263011e+08    20.000000    1470.000000      1.000000   \n",
       "25%     749.250000  5.284770e+08    20.000000    7482.000000      5.000000   \n",
       "50%    1470.500000  5.354541e+08    50.000000    9500.000000      6.000000   \n",
       "75%    2193.500000  9.071352e+08    70.000000   11604.500000      7.000000   \n",
       "max    2930.000000  1.007100e+09   190.000000  215245.000000     10.000000   \n",
       "\n",
       "       Overall Cond   Year Built  Year Remod/Add   1st Flr SF   2nd Flr SF  \\\n",
       "count   2430.000000  2430.000000     2430.000000  2430.000000  2430.000000   \n",
       "mean       5.569959  1971.167490     1984.238683  1159.845267   326.672840   \n",
       "std        1.116442    30.207931       20.751163   393.097610   419.490754   \n",
       "min        1.000000  1875.000000     1950.000000   334.000000     0.000000   \n",
       "25%        5.000000  1954.000000     1966.000000   880.500000     0.000000   \n",
       "50%        5.000000  1973.000000     1993.000000  1086.000000     0.000000   \n",
       "75%        6.000000  2000.000000     2003.000000  1387.750000   698.000000   \n",
       "max        9.000000  2010.000000     2010.000000  5095.000000  2065.000000   \n",
       "\n",
       "       ...  Wood Deck SF  Open Porch SF  Enclosed Porch   3Ssn Porch  \\\n",
       "count  ...   2430.000000    2430.000000     2430.000000  2430.000000   \n",
       "mean   ...     93.917695      47.091770       22.294650     2.471605   \n",
       "std    ...    128.106940      67.123846       62.386414    24.880245   \n",
       "min    ...      0.000000       0.000000        0.000000     0.000000   \n",
       "25%    ...      0.000000       0.000000        0.000000     0.000000   \n",
       "50%    ...      0.000000      27.000000        0.000000     0.000000   \n",
       "75%    ...    168.000000      70.000000        0.000000     0.000000   \n",
       "max    ...   1424.000000     742.000000     1012.000000   508.000000   \n",
       "\n",
       "       Screen Porch    Pool Area      Misc Val      Mo Sold      Yr Sold  \\\n",
       "count   2430.000000  2430.000000   2430.000000  2430.000000  2430.000000   \n",
       "mean      16.529218     2.401235     56.179835     6.209465  2007.783539   \n",
       "std       56.822227    36.111988    616.661541     2.721942     1.311843   \n",
       "min        0.000000     0.000000      0.000000     1.000000  2006.000000   \n",
       "25%        0.000000     0.000000      0.000000     4.000000  2007.000000   \n",
       "50%        0.000000     0.000000      0.000000     6.000000  2008.000000   \n",
       "75%        0.000000     0.000000      0.000000     8.000000  2009.000000   \n",
       "max      490.000000   800.000000  17000.000000    12.000000  2010.000000   \n",
       "\n",
       "           SalePrice  \n",
       "count    2430.000000  \n",
       "mean   180199.692593  \n",
       "std     79607.467171  \n",
       "min     12789.000000  \n",
       "25%    129000.000000  \n",
       "50%    160000.000000  \n",
       "75%    213099.750000  \n",
       "max    755000.000000  \n",
       "\n",
       "[8 rows x 28 columns]"
      ]
     },
     "execution_count": 465,
     "metadata": {},
     "output_type": "execute_result"
    }
   ],
   "source": [
    "data_df.describe()"
   ]
  },
  {
   "cell_type": "markdown",
   "id": "688d9cfa-ab80-46b5-9093-53deb4afff7f",
   "metadata": {},
   "source": [
    "From the plot and data decription, it appears that most of the data is concentrated on the 10k to 30k price range. Presumably, this is the reason why mean is greater than the median value. There are also few values that are above 700, which potentially can be considered as outliers"
   ]
  },
  {
   "cell_type": "markdown",
   "id": "9ca40ba0-1c41-4150-9dc7-e82b2558c916",
   "metadata": {},
   "source": [
    "To solve the issue with price distribution the logarithm functions can be applied to price"
   ]
  },
  {
   "cell_type": "code",
   "execution_count": 466,
   "id": "567bd345-ecd2-473a-932b-afe690debdb7",
   "metadata": {},
   "outputs": [
    {
     "data": {
      "image/png": "[encoded data removed]",
      "text/plain": [
       "<Figure size 432x288 with 1 Axes>"
      ]
     },
     "metadata": {
      "needs_background": "light"
     },
     "output_type": "display_data"
    }
   ],
   "source": [
    "import numpy as np\n",
    "\n",
    "plt.hist(np.log10(data_df.SalePrice), bins=20)\n",
    "plt.xlabel(\"log10(SalePrice)\")\n",
    "plt.show()"
   ]
  },
  {
   "cell_type": "markdown",
   "id": "97f84971-d163-4890-b402-a9da2790c671",
   "metadata": {},
   "source": [
    "Now it would be usefull to take at look a correlations between different columns to understand which features would be more relevant for further analysis. For this task the correlation heatmap can be ploted."
   ]
  },
  {
   "cell_type": "code",
   "execution_count": 467,
   "id": "4fa08aad-5e5a-4212-9f22-4904cfedb1f3",
   "metadata": {},
   "outputs": [
    {
     "data": {
      "image/png": "[encoded data removed]",
      "text/plain": [
       "<Figure size 1440x1440 with 2 Axes>"
      ]
     },
     "metadata": {
      "needs_background": "light"
     },
     "output_type": "display_data"
    }
   ],
   "source": [
    "import seaborn as sns\n",
    "\n",
    "#plot correlation heatmap\n",
    "plt.figure(figsize=(20, 20))\n",
    "sns.heatmap(data_df.corr())\n",
    "plt.show()"
   ]
  },
  {
   "cell_type": "markdown",
   "id": "e4282b3e-f6c2-4673-a47c-d09e1b89ed0e",
   "metadata": {},
   "source": [
    "Let's look at the dependency of key varialbes of the dataset: Sales prices and the area square meters sold"
   ]
  },
  {
   "cell_type": "code",
   "execution_count": 468,
   "id": "89e91b0b-6b13-40fd-9283-5abecbcd61c7",
   "metadata": {},
   "outputs": [
    {
     "data": {
      "image/png": "[encoded data removed]",
      "text/plain": [
       "<Figure size 432x288 with 1 Axes>"
      ]
     },
     "metadata": {
      "needs_background": "light"
     },
     "output_type": "display_data"
    }
   ],
   "source": [
    "import pandas as pd\n",
    "   \n",
    "# Draw a scatter plot\n",
    "data_df.plot.scatter(y = 'SalePrice', x = 'Gr Liv Area');"
   ]
  },
  {
   "cell_type": "code",
   "execution_count": 469,
   "id": "da79c510-7b35-4577-b3e4-408d79433835",
   "metadata": {},
   "outputs": [
    {
     "data": {
      "image/png": "[encoded data removed]",
      "text/plain": [
       "<Figure size 432x288 with 1 Axes>"
      ]
     },
     "metadata": {
      "needs_background": "light"
     },
     "output_type": "display_data"
    }
   ],
   "source": [
    "# Draw a scatter plot\n",
    "data_df.plot.scatter(y = 'SalePrice', x = 'Garage Area');"
   ]
  },
  {
   "cell_type": "markdown",
   "id": "4508b8f4-4e89-4949-9672-ef2db36e7038",
   "metadata": {},
   "source": [
    "From the above scatter plot it is visible there are few houses sold for too high prices and with quite big square feet size. Although in real life, this may happen, it seem unsual for this particular dataset. So, these records can be removed."
   ]
  },
  {
   "cell_type": "code",
   "execution_count": 470,
   "id": "4c4285fc-73e9-48f1-8e4b-9b8e5b212367",
   "metadata": {},
   "outputs": [],
   "source": [
    "#define data to remove\n",
    "unsual_d=(data_df['Gr Liv Area']>4000) | (data_df['SalePrice']>600000)\n",
    "unsual_dt=test_df['Gr Liv Area']>4000\n",
    "\n",
    "#filter it out\n",
    "data_df=data_df[~unsual_d]\n",
    "test_df=test_df[~unsual_dt]"
   ]
  },
  {
   "cell_type": "code",
   "execution_count": 471,
   "id": "7ee65417-97bb-4810-b9b1-b514d9c0473a",
   "metadata": {},
   "outputs": [
    {
     "data": {
      "image/png": "[encoded data removed]",
      "text/plain": [
       "<Figure size 432x288 with 1 Axes>"
      ]
     },
     "metadata": {
      "needs_background": "light"
     },
     "output_type": "display_data"
    }
   ],
   "source": [
    "import pandas as pd\n",
    "   \n",
    "# Draw a scatter plot\n",
    "data_df.plot.scatter(y = 'SalePrice', x = 'Gr Liv Area');"
   ]
  },
  {
   "cell_type": "markdown",
   "id": "d42df384-9160-4bfa-bfc2-e9bbb8f3ecc1",
   "metadata": {},
   "source": [
    "- Outliers removal"
   ]
  },
  {
   "cell_type": "markdown",
   "id": "2e9ea55e-b787-4537-8f5f-32199fdd87e2",
   "metadata": {},
   "source": [
    "Although few unsual records were removed, the outlier data can be further analysed with Z-score"
   ]
  },
  {
   "cell_type": "code",
   "execution_count": 472,
   "id": "b391d24e-021d-4330-b74f-442f8a7b03b7",
   "metadata": {},
   "outputs": [],
   "source": [
    "#define numerical data columns to prepare for z-score filtering                  \n",
    "numerics = ['float64', 'int64']\n",
    "col_num = list(data_df.select_dtypes(include=numerics))"
   ]
  },
  {
   "cell_type": "code",
   "execution_count": 473,
   "id": "9e98bcb6-3e98-45c1-a394-e2afd612fd46",
   "metadata": {},
   "outputs": [],
   "source": [
    "#get the Z filter function to be applied on the df\n",
    "zfilter_df = np.abs(data_df[col_num] - data_df[col_num].mean()) > (3 * data_df[col_num].std())\n",
    "zscores_df = (data_df[col_num] - data_df[col_num].mean()) / (data_df[col_num].std())\n",
    "zfilter_df2 = np.abs(zscores_df) > 3"
   ]
  },
  {
   "cell_type": "code",
   "execution_count": 474,
   "id": "6fe9c5fb-ffc6-4f5e-814d-6b80db556be2",
   "metadata": {},
   "outputs": [
    {
     "name": "stdout",
     "output_type": "stream",
     "text": [
      "Number of outliers detected per feature using z-scores:\n",
      "Order                0\n",
      "PID                  0\n",
      "MS SubClass         55\n",
      "Lot Area            21\n",
      "Overall Qual         4\n",
      "Overall Cond        49\n",
      "Year Built           6\n",
      "Year Remod/Add       0\n",
      "1st Flr SF          20\n",
      "2nd Flr SF           6\n",
      "Low Qual Fin SF     24\n",
      "Gr Liv Area         15\n",
      "Full Bath            3\n",
      "Half Bath           22\n",
      "Bedroom AbvGr       21\n",
      "Kitchen AbvGr      107\n",
      "TotRms AbvGrd       33\n",
      "Fireplaces          10\n",
      "Wood Deck SF        33\n",
      "Open Porch SF       43\n",
      "Enclosed Porch      75\n",
      "3Ssn Porch          28\n",
      "Screen Porch        90\n",
      "Pool Area            9\n",
      "Misc Val            16\n",
      "Mo Sold              0\n",
      "Yr Sold              0\n",
      "SalePrice           41\n",
      "dtype: int64\n",
      "Total number of outliers detected: 731\n"
     ]
    }
   ],
   "source": [
    "#get the sum of outliers\n",
    "print(\"Number of outliers detected per feature using z-scores:\")\n",
    "print(zfilter_df.sum(axis=0))\n",
    "print(\"Total number of outliers detected:\", zfilter_df.sum(axis=0).sum())"
   ]
  },
  {
   "cell_type": "code",
   "execution_count": 475,
   "id": "289063bf-b574-47cf-b0dc-f60bfac22502",
   "metadata": {},
   "outputs": [
    {
     "data": {
      "text/plain": [
       "(526, 82)"
      ]
     },
     "execution_count": 475,
     "metadata": {},
     "output_type": "execute_result"
    }
   ],
   "source": [
    "#get brief overview of outlier data\n",
    "zfilter_any = zfilter_df.any(axis=1)\n",
    "zfilter_any.head()\n",
    "\n",
    "#get the shape of outlier data\n",
    "outliers = data_df.loc[zfilter_any, :]\n",
    "outliers.shape"
   ]
  },
  {
   "cell_type": "markdown",
   "id": "ea1248f7-09d4-4f90-9faf-6518c8fed3e7",
   "metadata": {},
   "source": [
    "As per above analysis, z-score method have indified 724 records as outliers in numerical values. These can be filtered out from the df for convenience."
   ]
  },
  {
   "cell_type": "code",
   "execution_count": 476,
   "id": "77d9a703-dd62-4c1e-8fc1-c217da00f5d7",
   "metadata": {},
   "outputs": [
    {
     "data": {
      "text/plain": [
       "(1897, 82)"
      ]
     },
     "execution_count": 476,
     "metadata": {},
     "output_type": "execute_result"
    }
   ],
   "source": [
    "# save filtered data as new df and get the new shape\n",
    "data_df = data_df.drop(outliers.index, axis=0)\n",
    "data_df.shape"
   ]
  },
  {
   "cell_type": "markdown",
   "id": "ae3d5f06-ef7b-4a49-a92e-b1a59061671a",
   "metadata": {
    "tags": []
   },
   "source": [
    "\n",
    "\n",
    "## Feature encoding"
   ]
  },
  {
   "cell_type": "markdown",
   "id": "11deadaf-503a-4d5e-89fb-90746d09a7e0",
   "metadata": {},
   "source": [
    "- Handling categorical data"
   ]
  },
  {
   "cell_type": "markdown",
   "id": "4d1a5bf4-8efe-430f-befa-b65d10d9fcfe",
   "metadata": {},
   "source": [
    "First define the columns with categorical data that can be encoded"
   ]
  },
  {
   "cell_type": "markdown",
   "id": "d52fe917-f846-46f2-a24d-5a94555de75e",
   "metadata": {},
   "source": [
    "The ordinal and nominal columns are listed in the supporting documentation. \n",
    "Since there are quite many columns to encode, one-hot encoding would not be the best solution as it would create too many columns at this point. Therefore, ordinal data can be encoded with OrdinalEncoder function from sklearn, and nominal with LabelEncoder."
   ]
  },
  {
   "cell_type": "code",
   "execution_count": 477,
   "id": "25dcb488-96da-4039-8650-652cf38cccd0",
   "metadata": {},
   "outputs": [],
   "source": [
    "from sklearn.preprocessing import OrdinalEncoder, LabelEncoder\n",
    "from sklearn.compose import ColumnTransformer\n",
    "\n",
    "#encode ordinal data columns in 3 bulks and directly transform them to dataframe with fit_transorm function\n",
    "\n",
    "enc = OrdinalEncoder()\n",
    "data_df[['Lot Shape','Utilities','Land Slope','Overall Qual','Overall Cond','Exter Qual','Exter Cond']] = enc.fit_transform(data_df[['Lot Shape','Utilities','Land Slope','Overall Qual','Overall Cond','Exter Qual','Exter Cond']])\n",
    "\n",
    "enc = OrdinalEncoder()\n",
    "data_df[['Bsmt Qual','Bsmt Cond','Bsmt Exposure','BsmtFin Type 1','BsmtFin Type 2','Heating QC','Electrical','Kitchen Qual','Functional']] = enc.fit_transform(data_df[['Bsmt Qual','Bsmt Cond','Bsmt Exposure','BsmtFin Type 1','BsmtFin Type 2','Heating QC','Electrical','Kitchen Qual','Functional']])\n",
    "\n",
    "enc = OrdinalEncoder()\n",
    "data_df[['Fireplace Qu','Garage Finish','Garage Qual','Garage Cond','Paved Drive','Fence', 'Pool QC']] = enc.fit_transform(data_df[['Fireplace Qu','Garage Finish','Garage Qual','Garage Cond','Paved Drive','Fence', 'Pool QC']])"
   ]
  },
  {
   "cell_type": "markdown",
   "id": "21b847f4-d9a6-455c-9eec-e22d4512d684",
   "metadata": {},
   "source": [
    "Exactly same code would not work for nominal variables, so first I'd define column names and then integrate it to apply function with labelEncoder"
   ]
  },
  {
   "cell_type": "code",
   "execution_count": 478,
   "id": "0189164b-4196-44ce-ae24-be5d94439f6f",
   "metadata": {},
   "outputs": [
    {
     "data": {
      "text/html": [
       "<div>\n",
       "<style scoped>\n",
       "    .dataframe tbody tr th:only-of-type {\n",
       "        vertical-align: middle;\n",
       "    }\n",
       "\n",
       "    .dataframe tbody tr th {\n",
       "        vertical-align: top;\n",
       "    }\n",
       "\n",
       "    .dataframe thead th {\n",
       "        text-align: right;\n",
       "    }\n",
       "</style>\n",
       "<table border=\"1\" class=\"dataframe\">\n",
       "  <thead>\n",
       "    <tr style=\"text-align: right;\">\n",
       "      <th></th>\n",
       "      <th>Order</th>\n",
       "      <th>PID</th>\n",
       "      <th>MS SubClass</th>\n",
       "      <th>MS Zoning</th>\n",
       "      <th>Lot Frontage</th>\n",
       "      <th>Lot Area</th>\n",
       "      <th>Street</th>\n",
       "      <th>Alley</th>\n",
       "      <th>Lot Shape</th>\n",
       "      <th>Land Contour</th>\n",
       "      <th>...</th>\n",
       "      <th>Pool Area</th>\n",
       "      <th>Pool QC</th>\n",
       "      <th>Fence</th>\n",
       "      <th>Misc Feature</th>\n",
       "      <th>Misc Val</th>\n",
       "      <th>Mo Sold</th>\n",
       "      <th>Yr Sold</th>\n",
       "      <th>Sale Type</th>\n",
       "      <th>Sale Condition</th>\n",
       "      <th>SalePrice</th>\n",
       "    </tr>\n",
       "  </thead>\n",
       "  <tbody>\n",
       "    <tr>\n",
       "      <th>0</th>\n",
       "      <td>484</td>\n",
       "      <td>528275070</td>\n",
       "      <td>5</td>\n",
       "      <td>4</td>\n",
       "      <td>0</td>\n",
       "      <td>8795</td>\n",
       "      <td>1</td>\n",
       "      <td>2</td>\n",
       "      <td>0.0</td>\n",
       "      <td>3</td>\n",
       "      <td>...</td>\n",
       "      <td>0</td>\n",
       "      <td>0.0</td>\n",
       "      <td>4.0</td>\n",
       "      <td>1</td>\n",
       "      <td>0</td>\n",
       "      <td>4</td>\n",
       "      <td>2009</td>\n",
       "      <td>9</td>\n",
       "      <td>4</td>\n",
       "      <td>236000</td>\n",
       "    </tr>\n",
       "    <tr>\n",
       "      <th>1</th>\n",
       "      <td>2586</td>\n",
       "      <td>535305120</td>\n",
       "      <td>0</td>\n",
       "      <td>4</td>\n",
       "      <td>75.0</td>\n",
       "      <td>10170</td>\n",
       "      <td>1</td>\n",
       "      <td>2</td>\n",
       "      <td>3.0</td>\n",
       "      <td>3</td>\n",
       "      <td>...</td>\n",
       "      <td>0</td>\n",
       "      <td>0.0</td>\n",
       "      <td>4.0</td>\n",
       "      <td>1</td>\n",
       "      <td>0</td>\n",
       "      <td>6</td>\n",
       "      <td>2006</td>\n",
       "      <td>9</td>\n",
       "      <td>4</td>\n",
       "      <td>155000</td>\n",
       "    </tr>\n",
       "    <tr>\n",
       "      <th>2</th>\n",
       "      <td>2289</td>\n",
       "      <td>923228250</td>\n",
       "      <td>12</td>\n",
       "      <td>5</td>\n",
       "      <td>21.0</td>\n",
       "      <td>2001</td>\n",
       "      <td>1</td>\n",
       "      <td>2</td>\n",
       "      <td>3.0</td>\n",
       "      <td>3</td>\n",
       "      <td>...</td>\n",
       "      <td>0</td>\n",
       "      <td>0.0</td>\n",
       "      <td>4.0</td>\n",
       "      <td>1</td>\n",
       "      <td>0</td>\n",
       "      <td>1</td>\n",
       "      <td>2007</td>\n",
       "      <td>9</td>\n",
       "      <td>4</td>\n",
       "      <td>75000</td>\n",
       "    </tr>\n",
       "    <tr>\n",
       "      <th>3</th>\n",
       "      <td>142</td>\n",
       "      <td>535152150</td>\n",
       "      <td>0</td>\n",
       "      <td>4</td>\n",
       "      <td>70.0</td>\n",
       "      <td>10552</td>\n",
       "      <td>1</td>\n",
       "      <td>2</td>\n",
       "      <td>0.0</td>\n",
       "      <td>3</td>\n",
       "      <td>...</td>\n",
       "      <td>0</td>\n",
       "      <td>0.0</td>\n",
       "      <td>4.0</td>\n",
       "      <td>1</td>\n",
       "      <td>0</td>\n",
       "      <td>4</td>\n",
       "      <td>2010</td>\n",
       "      <td>9</td>\n",
       "      <td>4</td>\n",
       "      <td>165500</td>\n",
       "    </tr>\n",
       "    <tr>\n",
       "      <th>5</th>\n",
       "      <td>1256</td>\n",
       "      <td>535375160</td>\n",
       "      <td>4</td>\n",
       "      <td>4</td>\n",
       "      <td>45.0</td>\n",
       "      <td>7506</td>\n",
       "      <td>1</td>\n",
       "      <td>2</td>\n",
       "      <td>3.0</td>\n",
       "      <td>3</td>\n",
       "      <td>...</td>\n",
       "      <td>0</td>\n",
       "      <td>0.0</td>\n",
       "      <td>4.0</td>\n",
       "      <td>1</td>\n",
       "      <td>0</td>\n",
       "      <td>5</td>\n",
       "      <td>2008</td>\n",
       "      <td>9</td>\n",
       "      <td>4</td>\n",
       "      <td>114000</td>\n",
       "    </tr>\n",
       "  </tbody>\n",
       "</table>\n",
       "<p>5 rows × 82 columns</p>\n",
       "</div>"
      ],
      "text/plain": [
       "   Order        PID  MS SubClass  MS Zoning Lot Frontage  Lot Area  Street  \\\n",
       "0    484  528275070            5          4            0      8795       1   \n",
       "1   2586  535305120            0          4         75.0     10170       1   \n",
       "2   2289  923228250           12          5         21.0      2001       1   \n",
       "3    142  535152150            0          4         70.0     10552       1   \n",
       "5   1256  535375160            4          4         45.0      7506       1   \n",
       "\n",
       "   Alley  Lot Shape  Land Contour  ...  Pool Area  Pool QC  Fence  \\\n",
       "0      2        0.0             3  ...          0      0.0    4.0   \n",
       "1      2        3.0             3  ...          0      0.0    4.0   \n",
       "2      2        3.0             3  ...          0      0.0    4.0   \n",
       "3      2        0.0             3  ...          0      0.0    4.0   \n",
       "5      2        3.0             3  ...          0      0.0    4.0   \n",
       "\n",
       "   Misc Feature  Misc Val  Mo Sold  Yr Sold  Sale Type  Sale Condition  \\\n",
       "0             1         0        4     2009          9               4   \n",
       "1             1         0        6     2006          9               4   \n",
       "2             1         0        1     2007          9               4   \n",
       "3             1         0        4     2010          9               4   \n",
       "5             1         0        5     2008          9               4   \n",
       "\n",
       "   SalePrice  \n",
       "0     236000  \n",
       "1     155000  \n",
       "2      75000  \n",
       "3     165500  \n",
       "5     114000  \n",
       "\n",
       "[5 rows x 82 columns]"
      ]
     },
     "execution_count": 478,
     "metadata": {},
     "output_type": "execute_result"
    }
   ],
   "source": [
    "#Get column list\n",
    "cols = ['MS SubClass','MS Zoning','Street','Alley','Land Contour','Lot Config', 'Neighborhood', 'Condition 1', 'Condition 2','Bldg Type','House Style','Roof Style','Roof Matl','Exterior 1st','Exterior 2nd','Mas Vnr Type','Foundation','Heating','Central Air','Garage Type','Misc Feature','Sale Type','Sale Condition']\n",
    "\n",
    "# Encode labels of multiple columns at once with apply function\n",
    "data_df[cols] = data_df[cols].apply(LabelEncoder().fit_transform)\n",
    "\n",
    "# Print transformed data\n",
    "data_df.head()"
   ]
  },
  {
   "cell_type": "markdown",
   "id": "c544cbde-8974-423c-8a18-d433ba945591",
   "metadata": {},
   "source": [
    "Same encoding should be applied to test data"
   ]
  },
  {
   "cell_type": "code",
   "execution_count": 554,
   "id": "f90fcc8d-a826-4b1f-b30f-f08d76a1b3eb",
   "metadata": {},
   "outputs": [],
   "source": [
    "#encode ordinal data columns in 3 bulks and directly transform them to dataframe with fit_transorm function\n",
    "enc = OrdinalEncoder()\n",
    "test_df[['Lot Shape','Utilities','Land Slope','Overall Qual','Overall Cond','Exter Qual','Exter Cond','Bsmt Qual','Bsmt Cond','Bsmt Exposure','BsmtFin Type 1','BsmtFin Type 2','Heating QC','Electrical','Kitchen Qual','Functional','Fireplace Qu','Garage Finish','Garage Qual','Garage Cond','Paved Drive','Fence', 'Pool QC']] = enc.fit_transform(test_df[['Lot Shape','Utilities','Land Slope','Overall Qual','Overall Cond','Exter Qual','Exter Cond','Bsmt Qual','Bsmt Cond','Bsmt Exposure','BsmtFin Type 1','BsmtFin Type 2','Heating QC','Electrical','Kitchen Qual','Functional','Fireplace Qu','Garage Finish','Garage Qual','Garage Cond','Paved Drive','Fence', 'Pool QC']])\n",
    "\n"
   ]
  },
  {
   "cell_type": "code",
   "execution_count": 555,
   "id": "dbb9cdea-26fa-4f08-a8af-dd14ea7eec07",
   "metadata": {},
   "outputs": [
    {
     "data": {
      "text/plain": [
       "(500, 81)"
      ]
     },
     "execution_count": 555,
     "metadata": {},
     "output_type": "execute_result"
    }
   ],
   "source": [
    "test_df.shape"
   ]
  },
  {
   "cell_type": "code",
   "execution_count": 556,
   "id": "4764da6a-5bbf-4d12-9cd7-e169d61a3fe1",
   "metadata": {},
   "outputs": [
    {
     "data": {
      "text/plain": [
       "(500, 81)"
      ]
     },
     "execution_count": 556,
     "metadata": {},
     "output_type": "execute_result"
    }
   ],
   "source": [
    "# Encode labels of multiple columns at once with apply function\n",
    "test_df[cols] = test_df[cols].apply(LabelEncoder().fit_transform)\n",
    "\n",
    "test_df.shape"
   ]
  },
  {
   "cell_type": "markdown",
   "id": "18ce33b0-17b6-4658-a486-f61ec24373d2",
   "metadata": {},
   "source": [
    "## Feature engineering"
   ]
  },
  {
   "cell_type": "markdown",
   "id": "35e2058d-3d06-4793-980a-29c6d22c47b0",
   "metadata": {},
   "source": [
    "- Create indicator variables ex. year of construction is older than some threshold"
   ]
  },
  {
   "cell_type": "markdown",
   "id": "8ecad63a-8fa1-4794-bd02-7d3a0808933d",
   "metadata": {},
   "source": [
    "In the previous part some of the variables were encoded with Label and Ordinal encoders. However, there are some columns that still need to be encoded. These are the Year indicators. \n",
    "However, before encoding, it would be easier to group these year values into few indicators."
   ]
  },
  {
   "cell_type": "markdown",
   "id": "1d62ef81-3c10-4fef-a7bd-05d46a3b900d",
   "metadata": {},
   "source": [
    "First, these columns need to be converted to numeric format as otherwise boolean conditions wouldn't work."
   ]
  },
  {
   "cell_type": "code",
   "execution_count": 557,
   "id": "60b6d083-a10a-469c-9988-56b486f1b473",
   "metadata": {},
   "outputs": [],
   "source": [
    "#train data transformation\n",
    "data_df['Year Built'] = pd.to_numeric(data_df['Year Built'], downcast=\"float\")\n",
    "data_df['Year Remod/Add'] = pd.to_numeric(data_df['Year Built'], downcast=\"float\")\n",
    "data_df['Garage Yr Blt'] = pd.to_numeric(data_df['Garage Yr Blt'], downcast=\"float\")\n",
    "data_df['Garage Cars'] = pd.to_numeric(data_df['Garage Cars'], downcast=\"float\")\n",
    "data_df['Garage Area'] = pd.to_numeric(data_df['Garage Area'], downcast=\"float\")\n",
    "\n",
    "\n",
    "#test data transformation\n",
    "test_df['Year Built'] = pd.to_numeric(data_df['Year Built'], downcast=\"float\")\n",
    "test_df['Year Remod/Add'] = pd.to_numeric(data_df['Year Built'], downcast=\"float\")\n",
    "test_df['Garage Yr Blt'] = pd.to_numeric(data_df['Garage Yr Blt'], downcast=\"float\")\n",
    "test_df['Garage Cars'] = pd.to_numeric(test_df['Garage Cars'], downcast=\"float\")\n",
    "test_df['Garage Area'] = pd.to_numeric(test_df['Garage Area'], downcast=\"float\")"
   ]
  },
  {
   "cell_type": "markdown",
   "id": "dc804d71-d6fd-4125-9c34-07b5d9926da6",
   "metadata": {},
   "source": [
    "Now let's check columns' descriptions and form the groups based on min, max and percentile values"
   ]
  },
  {
   "cell_type": "code",
   "execution_count": 558,
   "id": "51f562eb-4bf9-4b25-b293-6b8566c564ae",
   "metadata": {},
   "outputs": [
    {
     "data": {
      "text/html": [
       "<div>\n",
       "<style scoped>\n",
       "    .dataframe tbody tr th:only-of-type {\n",
       "        vertical-align: middle;\n",
       "    }\n",
       "\n",
       "    .dataframe tbody tr th {\n",
       "        vertical-align: top;\n",
       "    }\n",
       "\n",
       "    .dataframe thead th {\n",
       "        text-align: right;\n",
       "    }\n",
       "</style>\n",
       "<table border=\"1\" class=\"dataframe\">\n",
       "  <thead>\n",
       "    <tr style=\"text-align: right;\">\n",
       "      <th></th>\n",
       "      <th>Year Built</th>\n",
       "      <th>Year Remod/Add</th>\n",
       "      <th>Garage Yr Blt</th>\n",
       "    </tr>\n",
       "  </thead>\n",
       "  <tbody>\n",
       "    <tr>\n",
       "      <th>count</th>\n",
       "      <td>1897.000000</td>\n",
       "      <td>1897.000000</td>\n",
       "      <td>1897.000000</td>\n",
       "    </tr>\n",
       "    <tr>\n",
       "      <th>mean</th>\n",
       "      <td>1974.346924</td>\n",
       "      <td>1974.346924</td>\n",
       "      <td>1898.137085</td>\n",
       "    </tr>\n",
       "    <tr>\n",
       "      <th>std</th>\n",
       "      <td>28.846743</td>\n",
       "      <td>28.846743</td>\n",
       "      <td>393.941711</td>\n",
       "    </tr>\n",
       "    <tr>\n",
       "      <th>min</th>\n",
       "      <td>1885.000000</td>\n",
       "      <td>1885.000000</td>\n",
       "      <td>0.000000</td>\n",
       "    </tr>\n",
       "    <tr>\n",
       "      <th>25%</th>\n",
       "      <td>1956.000000</td>\n",
       "      <td>1956.000000</td>\n",
       "      <td>1959.000000</td>\n",
       "    </tr>\n",
       "    <tr>\n",
       "      <th>50%</th>\n",
       "      <td>1976.000000</td>\n",
       "      <td>1976.000000</td>\n",
       "      <td>1979.000000</td>\n",
       "    </tr>\n",
       "    <tr>\n",
       "      <th>75%</th>\n",
       "      <td>2002.000000</td>\n",
       "      <td>2002.000000</td>\n",
       "      <td>2002.000000</td>\n",
       "    </tr>\n",
       "    <tr>\n",
       "      <th>max</th>\n",
       "      <td>2009.000000</td>\n",
       "      <td>2009.000000</td>\n",
       "      <td>2207.000000</td>\n",
       "    </tr>\n",
       "  </tbody>\n",
       "</table>\n",
       "</div>"
      ],
      "text/plain": [
       "        Year Built  Year Remod/Add  Garage Yr Blt\n",
       "count  1897.000000     1897.000000    1897.000000\n",
       "mean   1974.346924     1974.346924    1898.137085\n",
       "std      28.846743       28.846743     393.941711\n",
       "min    1885.000000     1885.000000       0.000000\n",
       "25%    1956.000000     1956.000000    1959.000000\n",
       "50%    1976.000000     1976.000000    1979.000000\n",
       "75%    2002.000000     2002.000000    2002.000000\n",
       "max    2009.000000     2009.000000    2207.000000"
      ]
     },
     "execution_count": 558,
     "metadata": {},
     "output_type": "execute_result"
    }
   ],
   "source": [
    "data_df[['Year Built', 'Year Remod/Add','Garage Yr Blt']].describe()"
   ]
  },
  {
   "cell_type": "code",
   "execution_count": 559,
   "id": "5df9e94f-c9a6-47a4-b302-4daa99d2fbef",
   "metadata": {},
   "outputs": [],
   "source": [
    "#define ranges and values assigned to 'Year Built'\n",
    "filters = [\n",
    "   (data_df['Year Built'].between(1883, 1956)) , (data_df['Year Built'].between(1956, 1980)),\n",
    "   (data_df['Year Built'].between(1980, 2010)) \n",
    "]\n",
    "values = [\"very_old\", \"old_mid_cent\", \"modern\"]\n",
    "\n",
    "# apply filter with select value and check the result\n",
    "data_df['Year Built1'] = np.select(filters, values)"
   ]
  },
  {
   "cell_type": "code",
   "execution_count": 560,
   "id": "8fe40930-c254-4e98-88f5-6269b877a6d6",
   "metadata": {},
   "outputs": [],
   "source": [
    "#define ranges and values assigned to each one of them 'Year Remod/Add'\n",
    "filters1 = [\n",
    "   (data_df['Year Remod/Add'].between(1883, 1956)) , (data_df['Year Remod/Add'].between(1956, 1980)),\n",
    "   (data_df['Year Remod/Add'].between(1980, 2010)) \n",
    "]\n",
    "values1 = [\"old_remod\", \"need_renovation\", \"recently_renovated\"]\n",
    "\n",
    "# apply filter with select value and check the result\n",
    "data_df['Year Remod/Add1'] = np.select(filters1, values1)"
   ]
  },
  {
   "cell_type": "code",
   "execution_count": 561,
   "id": "8dbcce11-98a5-4f4c-ad64-7155fd76fbd2",
   "metadata": {},
   "outputs": [],
   "source": [
    "#define ranges and values assigned to each one of them 'Year Remod/Add'\n",
    "filters2 = [\n",
    "   (data_df['Garage Yr Blt'].between(1883, 1960)) , (data_df['Garage Yr Blt'].between(1960, 2000)),\n",
    "   (data_df['Garage Yr Blt'].between(2000, 2010)) \n",
    "]\n",
    "values2 = [\"very_old_garage\", \"old_garage\", \"relatively_new\"]\n",
    "\n",
    "# apply filter with select value and check the result\n",
    "data_df['Garage Yr Blt1'] = np.select(filters2, values2)"
   ]
  },
  {
   "cell_type": "code",
   "execution_count": 562,
   "id": "02d546a0-20b3-48dd-a4c7-2dcd2781d0db",
   "metadata": {},
   "outputs": [
    {
     "data": {
      "text/html": [
       "<div>\n",
       "<style scoped>\n",
       "    .dataframe tbody tr th:only-of-type {\n",
       "        vertical-align: middle;\n",
       "    }\n",
       "\n",
       "    .dataframe tbody tr th {\n",
       "        vertical-align: top;\n",
       "    }\n",
       "\n",
       "    .dataframe thead th {\n",
       "        text-align: right;\n",
       "    }\n",
       "</style>\n",
       "<table border=\"1\" class=\"dataframe\">\n",
       "  <thead>\n",
       "    <tr style=\"text-align: right;\">\n",
       "      <th></th>\n",
       "      <th>Year Built</th>\n",
       "      <th>Year Built1</th>\n",
       "      <th>Year Remod/Add</th>\n",
       "      <th>Year Remod/Add1</th>\n",
       "      <th>Garage Yr Blt</th>\n",
       "      <th>Garage Yr Blt1</th>\n",
       "    </tr>\n",
       "  </thead>\n",
       "  <tbody>\n",
       "    <tr>\n",
       "      <th>0</th>\n",
       "      <td>2000.0</td>\n",
       "      <td>modern</td>\n",
       "      <td>2000.0</td>\n",
       "      <td>recently_renovated</td>\n",
       "      <td>2000.0</td>\n",
       "      <td>old_garage</td>\n",
       "    </tr>\n",
       "    <tr>\n",
       "      <th>1</th>\n",
       "      <td>1951.0</td>\n",
       "      <td>very_old</td>\n",
       "      <td>1951.0</td>\n",
       "      <td>old_remod</td>\n",
       "      <td>1951.0</td>\n",
       "      <td>very_old_garage</td>\n",
       "    </tr>\n",
       "    <tr>\n",
       "      <th>2</th>\n",
       "      <td>1970.0</td>\n",
       "      <td>old_mid_cent</td>\n",
       "      <td>1970.0</td>\n",
       "      <td>need_renovation</td>\n",
       "      <td>1970.0</td>\n",
       "      <td>old_garage</td>\n",
       "    </tr>\n",
       "    <tr>\n",
       "      <th>3</th>\n",
       "      <td>1959.0</td>\n",
       "      <td>old_mid_cent</td>\n",
       "      <td>1959.0</td>\n",
       "      <td>need_renovation</td>\n",
       "      <td>1959.0</td>\n",
       "      <td>very_old_garage</td>\n",
       "    </tr>\n",
       "    <tr>\n",
       "      <th>5</th>\n",
       "      <td>1925.0</td>\n",
       "      <td>very_old</td>\n",
       "      <td>1925.0</td>\n",
       "      <td>old_remod</td>\n",
       "      <td>1932.0</td>\n",
       "      <td>very_old_garage</td>\n",
       "    </tr>\n",
       "  </tbody>\n",
       "</table>\n",
       "</div>"
      ],
      "text/plain": [
       "   Year Built   Year Built1  Year Remod/Add     Year Remod/Add1  \\\n",
       "0      2000.0        modern          2000.0  recently_renovated   \n",
       "1      1951.0      very_old          1951.0           old_remod   \n",
       "2      1970.0  old_mid_cent          1970.0     need_renovation   \n",
       "3      1959.0  old_mid_cent          1959.0     need_renovation   \n",
       "5      1925.0      very_old          1925.0           old_remod   \n",
       "\n",
       "   Garage Yr Blt   Garage Yr Blt1  \n",
       "0         2000.0       old_garage  \n",
       "1         1951.0  very_old_garage  \n",
       "2         1970.0       old_garage  \n",
       "3         1959.0  very_old_garage  \n",
       "5         1932.0  very_old_garage  "
      ]
     },
     "execution_count": 562,
     "metadata": {},
     "output_type": "execute_result"
    }
   ],
   "source": [
    "#check the new columns\n",
    "data_df[['Year Built','Year Built1','Year Remod/Add','Year Remod/Add1','Garage Yr Blt','Garage Yr Blt1']].head()"
   ]
  },
  {
   "cell_type": "markdown",
   "id": "8054773f-bd2f-4f3e-bc1d-6ab0a522d031",
   "metadata": {},
   "source": [
    "Same transformations should be done in the test set"
   ]
  },
  {
   "cell_type": "code",
   "execution_count": 563,
   "id": "6da169a5-e5bb-4928-89c6-ddec1fb797b7",
   "metadata": {},
   "outputs": [],
   "source": [
    "#define ranges and values assigned to 'Year Built'\n",
    "filters = [\n",
    "   (test_df['Year Built'].between(1883, 1956)) , (test_df['Year Built'].between(1956, 1980)),\n",
    "   (test_df['Year Built'].between(1980, 2010)) \n",
    "]\n",
    "values = [\"very_old\", \"old_mid_cent\", \"modern\"]\n",
    "\n",
    "# apply filter with select value and check the result\n",
    "test_df['Year Built1'] = np.select(filters, values)\n",
    "\n",
    "#define ranges and values assigned to each one of them 'Year Remod/Add'\n",
    "filters1 = [\n",
    "   (test_df['Year Remod/Add'].between(1883, 1956)) , (test_df['Year Remod/Add'].between(1956, 1980)),\n",
    "   (test_df['Year Remod/Add'].between(1980, 2010)) \n",
    "]\n",
    "values1 = [\"old_remod\", \"need_renovation\", \"recently_renovated\"]\n",
    "\n",
    "# apply filter with select value and check the result\n",
    "test_df['Year Remod/Add1'] = np.select(filters1, values1)\n",
    "\n",
    "#define ranges and values assigned to each one of them 'Year Remod/Add'\n",
    "filters2 = [\n",
    "  (test_df['Garage Yr Blt'].between(1883, 1960)) , (test_df['Garage Yr Blt'].between(1960, 2000)),\n",
    "   (test_df['Garage Yr Blt'].between(2000, 2010)) \n",
    "]\n",
    "values2 = [\"very_old_garage\", \"old_garage\", \"relatively_new\"]\n",
    "\n",
    "# apply filter with select value and check the result\n",
    "test_df['Garage Yr Blt1'] = np.select(filters2, values2)"
   ]
  },
  {
   "cell_type": "code",
   "execution_count": 564,
   "id": "cb545ad6-d406-4fe7-a6fc-8eee95e90066",
   "metadata": {},
   "outputs": [
    {
     "data": {
      "text/html": [
       "<div>\n",
       "<style scoped>\n",
       "    .dataframe tbody tr th:only-of-type {\n",
       "        vertical-align: middle;\n",
       "    }\n",
       "\n",
       "    .dataframe tbody tr th {\n",
       "        vertical-align: top;\n",
       "    }\n",
       "\n",
       "    .dataframe thead th {\n",
       "        text-align: right;\n",
       "    }\n",
       "</style>\n",
       "<table border=\"1\" class=\"dataframe\">\n",
       "  <thead>\n",
       "    <tr style=\"text-align: right;\">\n",
       "      <th></th>\n",
       "      <th>Lot Frontage</th>\n",
       "      <th>Mas Vnr Area</th>\n",
       "      <th>BsmtFin SF 1</th>\n",
       "      <th>BsmtFin SF 2</th>\n",
       "      <th>Bsmt Unf SF</th>\n",
       "      <th>Total Bsmt SF</th>\n",
       "      <th>Bsmt Full Bath</th>\n",
       "      <th>Bsmt Half Bath</th>\n",
       "      <th>Year Built1</th>\n",
       "      <th>Year Remod/Add1</th>\n",
       "      <th>Garage Yr Blt1</th>\n",
       "    </tr>\n",
       "  </thead>\n",
       "  <tbody>\n",
       "    <tr>\n",
       "      <th>0</th>\n",
       "      <td>0</td>\n",
       "      <td>0.0</td>\n",
       "      <td>300.0</td>\n",
       "      <td>0.0</td>\n",
       "      <td>652.0</td>\n",
       "      <td>952.0</td>\n",
       "      <td>0.0</td>\n",
       "      <td>0.0</td>\n",
       "      <td>modern</td>\n",
       "      <td>recently_renovated</td>\n",
       "      <td>old_garage</td>\n",
       "    </tr>\n",
       "    <tr>\n",
       "      <th>1</th>\n",
       "      <td>75.0</td>\n",
       "      <td>522.0</td>\n",
       "      <td>0.0</td>\n",
       "      <td>0.0</td>\n",
       "      <td>216.0</td>\n",
       "      <td>216.0</td>\n",
       "      <td>0.0</td>\n",
       "      <td>0.0</td>\n",
       "      <td>very_old</td>\n",
       "      <td>old_remod</td>\n",
       "      <td>very_old_garage</td>\n",
       "    </tr>\n",
       "    <tr>\n",
       "      <th>2</th>\n",
       "      <td>21.0</td>\n",
       "      <td>80.0</td>\n",
       "      <td>0.0</td>\n",
       "      <td>0.0</td>\n",
       "      <td>546.0</td>\n",
       "      <td>546.0</td>\n",
       "      <td>0.0</td>\n",
       "      <td>0.0</td>\n",
       "      <td>old_mid_cent</td>\n",
       "      <td>need_renovation</td>\n",
       "      <td>old_garage</td>\n",
       "    </tr>\n",
       "    <tr>\n",
       "      <th>3</th>\n",
       "      <td>70.0</td>\n",
       "      <td>0.0</td>\n",
       "      <td>1018.0</td>\n",
       "      <td>0.0</td>\n",
       "      <td>380.0</td>\n",
       "      <td>1398.0</td>\n",
       "      <td>0.0</td>\n",
       "      <td>1.0</td>\n",
       "      <td>old_mid_cent</td>\n",
       "      <td>need_renovation</td>\n",
       "      <td>very_old_garage</td>\n",
       "    </tr>\n",
       "    <tr>\n",
       "      <th>5</th>\n",
       "      <td>45.0</td>\n",
       "      <td>0.0</td>\n",
       "      <td>0.0</td>\n",
       "      <td>0.0</td>\n",
       "      <td>747.0</td>\n",
       "      <td>747.0</td>\n",
       "      <td>0.0</td>\n",
       "      <td>0.0</td>\n",
       "      <td>very_old</td>\n",
       "      <td>old_remod</td>\n",
       "      <td>very_old_garage</td>\n",
       "    </tr>\n",
       "  </tbody>\n",
       "</table>\n",
       "</div>"
      ],
      "text/plain": [
       "  Lot Frontage Mas Vnr Area BsmtFin SF 1 BsmtFin SF 2 Bsmt Unf SF  \\\n",
       "0            0          0.0        300.0          0.0       652.0   \n",
       "1         75.0        522.0          0.0          0.0       216.0   \n",
       "2         21.0         80.0          0.0          0.0       546.0   \n",
       "3         70.0          0.0       1018.0          0.0       380.0   \n",
       "5         45.0          0.0          0.0          0.0       747.0   \n",
       "\n",
       "  Total Bsmt SF Bsmt Full Bath Bsmt Half Bath   Year Built1  \\\n",
       "0         952.0            0.0            0.0        modern   \n",
       "1         216.0            0.0            0.0      very_old   \n",
       "2         546.0            0.0            0.0  old_mid_cent   \n",
       "3        1398.0            0.0            1.0  old_mid_cent   \n",
       "5         747.0            0.0            0.0      very_old   \n",
       "\n",
       "      Year Remod/Add1   Garage Yr Blt1  \n",
       "0  recently_renovated       old_garage  \n",
       "1           old_remod  very_old_garage  \n",
       "2     need_renovation       old_garage  \n",
       "3     need_renovation  very_old_garage  \n",
       "5           old_remod  very_old_garage  "
      ]
     },
     "execution_count": 564,
     "metadata": {},
     "output_type": "execute_result"
    }
   ],
   "source": [
    "# check the result\n",
    "data_df.select_dtypes('object').head()"
   ]
  },
  {
   "cell_type": "code",
   "execution_count": 566,
   "id": "7836d7ea-0978-4367-87d8-28478f034036",
   "metadata": {},
   "outputs": [
    {
     "data": {
      "text/plain": [
       "(500, 84)"
      ]
     },
     "execution_count": 566,
     "metadata": {},
     "output_type": "execute_result"
    }
   ],
   "source": [
    "test_df.shape"
   ]
  },
  {
   "cell_type": "markdown",
   "id": "ab2abe3a-d639-4664-aa60-0d8701be6fef",
   "metadata": {},
   "source": [
    "- Transformations ex. log-transforms, polynomials"
   ]
  },
  {
   "cell_type": "markdown",
   "id": "9035e3cc-b314-4132-aaf8-01c037c23cb0",
   "metadata": {},
   "source": [
    "For this part of excercise a polynomial to model  can be used to model relationship between Price and Living area variables as these two features would be good for further simple model fitting "
   ]
  },
  {
   "cell_type": "code",
   "execution_count": 488,
   "id": "1aaab794-2494-4972-93ca-ac28fed73d1e",
   "metadata": {},
   "outputs": [],
   "source": [
    "data_dfx=data_df"
   ]
  },
  {
   "cell_type": "markdown",
   "id": "6c99a70e-f570-4b1d-b864-8a023557ea4d",
   "metadata": {},
   "source": [
    "First, xy variables should be defined and then, the data can be plotted"
   ]
  },
  {
   "cell_type": "code",
   "execution_count": 489,
   "id": "2b755bd1-4d0f-428d-835e-81a4179049f8",
   "metadata": {},
   "outputs": [
    {
     "data": {
      "image/png": "[encoded data removed]",
      "text/plain": [
       "<Figure size 432x288 with 1 Axes>"
      ]
     },
     "metadata": {
      "needs_background": "light"
     },
     "output_type": "display_data"
    }
   ],
   "source": [
    "# Extract x, y data\n",
    "x = data_dfx['Gr Liv Area'].values  \n",
    "y = data_dfx['SalePrice'].values  \n",
    "\n",
    "# Plot data\n",
    "%matplotlib inline\n",
    "import matplotlib.pyplot as plt\n",
    "\n",
    "data_df.plot.scatter('Gr Liv Area','SalePrice')\n",
    "plt.show()"
   ]
  },
  {
   "cell_type": "markdown",
   "id": "94bd3a94-ba5f-439c-91b2-afe5047db253",
   "metadata": {},
   "source": [
    "Create features through PolynomialFeatures functions and then, the data can be transofrmed"
   ]
  },
  {
   "cell_type": "code",
   "execution_count": 490,
   "id": "d5e25cca-acc5-4993-b1d8-f9ca605bc679",
   "metadata": {},
   "outputs": [
    {
     "name": "stdout",
     "output_type": "stream",
     "text": [
      "Shape: (1897, 3)\n"
     ]
    }
   ],
   "source": [
    "from sklearn.preprocessing import PolynomialFeatures\n",
    "\n",
    "import numpy as np\n",
    "\n",
    "# Create the object\n",
    "pf_obj = PolynomialFeatures(degree=2)\n",
    "\n",
    "# Create the polynomial features\n",
    "X2 = pf_obj.fit_transform(\n",
    "    # Pass two dimensional array\n",
    "    x[:, np.newaxis]  # (57,) -> (57,1)\n",
    ")\n",
    "\n",
    "#get the shape of the new data\n",
    "print(\"Shape:\", X2.shape)"
   ]
  },
  {
   "cell_type": "markdown",
   "id": "74c504e9-b133-4f5c-a2f2-2f1a5d9d5ad8",
   "metadata": {},
   "source": [
    "Compute the number of new features manually with numpy function"
   ]
  },
  {
   "cell_type": "code",
   "execution_count": 491,
   "id": "f32ecd85-0b58-44b8-86db-dbfb1dc69a86",
   "metadata": {},
   "outputs": [],
   "source": [
    "# Fit the preprocessor\n",
    "pf_obj.fit(x[:, np.newaxis])\n",
    "\n",
    "# Create the polynomial features\n",
    "Xp = pf_obj.transform((x[:, np.newaxis]))"
   ]
  },
  {
   "cell_type": "code",
   "execution_count": 492,
   "id": "718e2a2c-9b71-4a0c-b1c8-2acd708b2f9e",
   "metadata": {},
   "outputs": [],
   "source": [
    "Xp = np.c_[x, x ** 2]"
   ]
  },
  {
   "cell_type": "markdown",
   "id": "314445f8-a8ac-4920-92b2-222ddb7ee8e8",
   "metadata": {},
   "source": [
    "Now the fitting of linear regression could be tested to see how the approximate prediction would look like for simple model"
   ]
  },
  {
   "cell_type": "code",
   "execution_count": 493,
   "id": "b90b46e1-97d1-43a0-a951-cc020ff27896",
   "metadata": {},
   "outputs": [
    {
     "data": {
      "text/plain": [
       "LinearRegression()"
      ]
     },
     "execution_count": 493,
     "metadata": {},
     "output_type": "execute_result"
    }
   ],
   "source": [
    "from sklearn.linear_model import LinearRegression\n",
    "\n",
    "# Create linear regression\n",
    "linreg = LinearRegression()\n",
    "\n",
    "# Fit it\n",
    "linreg.fit(Xp, y)"
   ]
  },
  {
   "cell_type": "code",
   "execution_count": 494,
   "id": "c60863d5-c3bc-4ca8-aa7d-7544fd5f7ec0",
   "metadata": {},
   "outputs": [],
   "source": [
    "# Generate a hundred values between min(x) and max(x)\n",
    "x_values = np.linspace(min(x), max(x), num=100)\n",
    "X_values2 = pf_obj.transform(x_values[:, np.newaxis])\n",
    "X_values2 = np.c_[x_values, x_values ** 2]"
   ]
  },
  {
   "cell_type": "code",
   "execution_count": 495,
   "id": "67fecef9-5f60-47ba-8e49-59c8e2a09fc2",
   "metadata": {},
   "outputs": [
    {
     "data": {
      "image/png": "[encoded data removed]",
      "text/plain": [
       "<Figure size 432x288 with 1 Axes>"
      ]
     },
     "metadata": {
      "needs_background": "light"
     },
     "output_type": "display_data"
    }
   ],
   "source": [
    "# Compute predictions\n",
    "y_values = linreg.predict(X_values2)\n",
    "\n",
    "# Plot predictions\n",
    "data_df.plot.scatter('Gr Liv Area','SalePrice')\n",
    "plt.plot(x_values, y_values, color=\"C3\")\n",
    "plt.show()"
   ]
  },
  {
   "cell_type": "markdown",
   "id": "f4cddd58-54b7-47b9-aa17-2d9fccf064c1",
   "metadata": {},
   "source": [
    "### Model fitting\n",
    "\n",
    "- Get the baseline model by computing the median for further model comparisons"
   ]
  },
  {
   "cell_type": "code",
   "execution_count": 567,
   "id": "82dbcf61-1b13-4fa4-9a50-9f0886a489e8",
   "metadata": {},
   "outputs": [
    {
     "data": {
      "text/plain": [
       "174342.23985239852"
      ]
     },
     "execution_count": 567,
     "metadata": {},
     "output_type": "execute_result"
    }
   ],
   "source": [
    "import numpy as np\n",
    "\n",
    "# Extract the target\n",
    "price_b = data_df.SalePrice.values\n",
    "\n",
    "# Compute baseline\n",
    "pred_baseline = np.mean(price_b)  \n",
    "pred_baseline"
   ]
  },
  {
   "cell_type": "markdown",
   "id": "d5a8cc0d-3d18-4d90-a79c-11e59afbf75c",
   "metadata": {},
   "source": [
    "The prediction of the baseline is 174712.7 in price for the house.\n",
    "Now the Mean Absolute Error can be calculated as a difference between the baselines value (predicted) and the actual Sales Price value"
   ]
  },
  {
   "cell_type": "markdown",
   "id": "b8b19b6a-dd0b-4e5c-9f77-9b1d11459f5a",
   "metadata": {},
   "source": [
    "We can now calculate the error."
   ]
  },
  {
   "cell_type": "code",
   "execution_count": 568,
   "id": "e3c113ca-f1b1-4cd1-9ff2-c6025019f007",
   "metadata": {},
   "outputs": [],
   "source": [
    "# define Mean absolute error \n",
    "def MAE(y, y_pred):\n",
    "    return np.mean(np.abs(y - y_pred))"
   ]
  },
  {
   "cell_type": "code",
   "execution_count": 569,
   "id": "fcfc9b05-ee19-4b52-b38b-d3152eb80764",
   "metadata": {},
   "outputs": [
    {
     "data": {
      "text/plain": [
       "50753.28151460745"
      ]
     },
     "execution_count": 569,
     "metadata": {},
     "output_type": "execute_result"
    }
   ],
   "source": [
    "# compare the baseline with actual data\n",
    "mae_baseline = MAE(price_b, pred_baseline)\n",
    "mae_baseline"
   ]
  },
  {
   "cell_type": "markdown",
   "id": "c88b80ea-83ff-4d7b-835a-2c7d95f99c26",
   "metadata": {},
   "source": [
    "Let's take a closer look at the features that are correlated the most to the SalesPrice. Based on these numbers, the features for simple and intermidate model can be chosen"
   ]
  },
  {
   "cell_type": "code",
   "execution_count": 570,
   "id": "a10d4f02-d4b7-4ebf-91cb-67fe5cfc7f29",
   "metadata": {},
   "outputs": [
    {
     "name": "stdout",
     "output_type": "stream",
     "text": [
      "SalePrice         1.000000\n",
      "Overall Qual      0.819246\n",
      "Gr Liv Area       0.755445\n",
      "Garage Cars       0.691576\n",
      "Garage Area       0.657015\n",
      "Year Remod/Add    0.640317\n",
      "Year Built        0.640317\n",
      "Full Bath         0.636361\n",
      "1st Flr SF        0.626270\n",
      "TotRms AbvGrd     0.558747\n",
      "Foundation        0.489467\n",
      "Fireplaces        0.466176\n",
      "Open Porch SF     0.397142\n",
      "Lot Area          0.332905\n",
      "Wood Deck SF      0.303134\n",
      "Name: SalePrice, dtype: float64\n"
     ]
    }
   ],
   "source": [
    "corr = data_df.corr()\n",
    "corr.sort_values([\"SalePrice\"], ascending = False, inplace = True)\n",
    "print(corr.SalePrice.head(15))"
   ]
  },
  {
   "cell_type": "markdown",
   "id": "27eace53-ca36-405a-910b-2925811c0bb3",
   "metadata": {},
   "source": [
    "Since Overall Quality has a high correlations with Sales Price, let's get a baseline model that can be used for price prediction"
   ]
  },
  {
   "cell_type": "code",
   "execution_count": 571,
   "id": "c664b233-08c0-4e56-b89f-2d3140d82a73",
   "metadata": {},
   "outputs": [
    {
     "data": {
      "text/plain": [
       "0.6711638485050184"
      ]
     },
     "execution_count": 571,
     "metadata": {},
     "output_type": "execute_result"
    }
   ],
   "source": [
    "from sklearn.linear_model import LinearRegression\n",
    "\n",
    "qual_base=data_df[['Overall Qual']]\n",
    "price_base= data_df[['SalePrice']]\n",
    "lr =LinearRegression()\n",
    "lr.fit(qual_base,price_base)\n",
    "lr.score(qual_base,price_base)"
   ]
  },
  {
   "cell_type": "markdown",
   "id": "482c369b-01bd-4208-b9fc-8c308b5034f1",
   "metadata": {},
   "source": [
    "Now that the baselines is calculated, Mean Absolute Error functions can be defined for further comparisons"
   ]
  },
  {
   "cell_type": "markdown",
   "id": "e5bb3315-a4d1-4f70-98de-5be8355fc8c8",
   "metadata": {},
   "source": [
    "Alternative way to generate the baseline through RSS measure"
   ]
  },
  {
   "cell_type": "markdown",
   "id": "f71b5110-c8b5-40c1-92d8-e5f04f5612a5",
   "metadata": {},
   "source": [
    "- Simple linear regression"
   ]
  },
  {
   "cell_type": "markdown",
   "id": "d38d1a2a-e1ce-4841-8668-799774f017f3",
   "metadata": {},
   "source": [
    "For the simple model building I would take two columns that have different correlation level to the SalesPrice, and then create the input matrix X and the output vector y. \n",
    "\n",
    "Assuming that Year Built and Overall quality have the highest impacts on price"
   ]
  },
  {
   "cell_type": "code",
   "execution_count": 572,
   "id": "d5d54e7f-dcef-45e1-ae93-bac66cbb9985",
   "metadata": {},
   "outputs": [],
   "source": [
    "#get features\n",
    "df_simple=data_df[['Gr Liv Area','Overall Qual','SalePrice']]"
   ]
  },
  {
   "cell_type": "code",
   "execution_count": 573,
   "id": "e8719414-5708-4624-99a2-13ba6c998ece",
   "metadata": {},
   "outputs": [],
   "source": [
    "# Extract input matrix X\n",
    "X = df_simple.drop('SalePrice', axis=1).values\n",
    "\n",
    "# Extract target vector y\n",
    "Y = df_simple.SalePrice.values"
   ]
  },
  {
   "cell_type": "code",
   "execution_count": 574,
   "id": "c3696e4e-8686-4dd5-b6de-d0a7f43f4f94",
   "metadata": {},
   "outputs": [
    {
     "name": "stdout",
     "output_type": "stream",
     "text": [
      "w: [   51.26596028 25424.74711841]\n",
      "RSS: 1955047671461.0857\n"
     ]
    }
   ],
   "source": [
    "from scipy.linalg import lstsq\n",
    "\n",
    "# Fit a multiple linear regression\n",
    "w, rss, _, _ = lstsq(X, Y)\n",
    "print(\"w:\", w)\n",
    "print(\"RSS:\", rss)"
   ]
  },
  {
   "cell_type": "markdown",
   "id": "2748a65e-03b5-495a-85b3-de699d1f6c0b",
   "metadata": {},
   "source": [
    "Adding the intercept term"
   ]
  },
  {
   "cell_type": "code",
   "execution_count": 575,
   "id": "f778cd27-9502-42f5-b9de-f74c1f246d36",
   "metadata": {},
   "outputs": [
    {
     "name": "stdout",
     "output_type": "stream",
     "text": [
      "w: [-29420.83482686     63.38176728  27915.93845566]\n",
      "RSS: 1837526109166.0522\n"
     ]
    }
   ],
   "source": [
    "import numpy as np\n",
    "\n",
    "# Add a column of ones\n",
    "X1 = np.c_[np.ones(X.shape[0]),  # Vector of ones of shape (n,)\n",
    "           X]                    # X matrix of shape (n,p)\n",
    "\n",
    "X1[:5, :]\n",
    "\n",
    "w, rss, _, _ = lstsq(X1, Y)\n",
    "\n",
    "print(\"w:\", w)\n",
    "print(\"RSS:\", rss)"
   ]
  },
  {
   "cell_type": "code",
   "execution_count": 576,
   "id": "c8caae9f-5f56-4893-befd-655fbe124b99",
   "metadata": {},
   "outputs": [
    {
     "name": "stdout",
     "output_type": "stream",
     "text": [
      "Slope coefficients: [    0.            63.38176728 27915.93845566]\n",
      "Intercept: -29420.83482685566\n"
     ]
    }
   ],
   "source": [
    "from sklearn.linear_model import LinearRegression\n",
    "\n",
    "# Create a linear regression object\n",
    "lr = LinearRegression()\n",
    "\n",
    "# Fit the model\n",
    "lr.fit(X1, Y)\n",
    "\n",
    "# Print coefficients\n",
    "print(\"Slope coefficients:\", lr.coef_)\n",
    "print(\"Intercept:\", lr.intercept_)"
   ]
  },
  {
   "cell_type": "markdown",
   "id": "f9c35cce-2eb7-4441-abea-c5c3eac9d6e4",
   "metadata": {},
   "source": [
    "Next step is to evaluate the model and get the R^2 coefficient of determination"
   ]
  },
  {
   "cell_type": "code",
   "execution_count": 577,
   "id": "3b0f2179-748c-4f78-a966-7689fd099ef3",
   "metadata": {},
   "outputs": [
    {
     "data": {
      "text/plain": [
       "('coefficient of determination:', 0.7736633258464268)"
      ]
     },
     "execution_count": 577,
     "metadata": {},
     "output_type": "execute_result"
    }
   ],
   "source": [
    "model = LinearRegression().fit(X1, Y)\n",
    "r_sq = model.score(X1, Y)\n",
    "('coefficient of determination:', r_sq)"
   ]
  },
  {
   "cell_type": "markdown",
   "id": "1d2f1e63-aa6d-4893-92d1-8bf6c23c4d9d",
   "metadata": {},
   "source": [
    "the R^2 for simple model is nearly 69%, which isn't bad. Hence, the model performs better than baseline"
   ]
  },
  {
   "cell_type": "code",
   "execution_count": 578,
   "id": "7c3c47ea-464b-444e-82ca-af6c1b522c34",
   "metadata": {},
   "outputs": [
    {
     "data": {
      "text/plain": [
       "array([253148.12444304, 182069.20246731,  95623.93195805])"
      ]
     },
     "execution_count": 578,
     "metadata": {},
     "output_type": "execute_result"
    }
   ],
   "source": [
    "# Compute predictions for Simple model\n",
    "ys_pred = model.predict(X1)\n",
    "ys_pred[:3]"
   ]
  },
  {
   "cell_type": "markdown",
   "id": "c718c66d-9596-4448-85ef-99a6b3e9b2ef",
   "metadata": {},
   "source": [
    "Perform the same steps for test data"
   ]
  },
  {
   "cell_type": "code",
   "execution_count": 579,
   "id": "11606d6d-6b59-4dd8-a100-c9ead13ca1ce",
   "metadata": {},
   "outputs": [
    {
     "data": {
      "text/plain": [
       "array([208436.01765725, 117074.93015079, 262936.87745561, 126201.90463962,\n",
       "       101074.76394444, 184224.18255495,  49010.37215376, 144420.4327009 ,\n",
       "       147244.65137775, 102722.68989381])"
      ]
     },
     "execution_count": 579,
     "metadata": {},
     "output_type": "execute_result"
    }
   ],
   "source": [
    "#test_df['Year Built'].fillna(value=\"0\", inplace=True)\n",
    "test_dfs=test_df[['Gr Liv Area','Overall Qual']]\n",
    "X_te = test_dfs.values\n",
    "\n",
    "# Add a column of ones\n",
    "X1_te = np.c_[np.ones(X_te.shape[0]),  # Vector of ones of shape (n,)\n",
    "           X_te]                    # X matrix of shape (n,p)\n",
    "\n",
    "X1_te[:5, :]\n",
    "\n",
    "y_te = model.predict(X1_te)  # create y-labels through the learned model\n",
    "\n",
    "y_te[:10]"
   ]
  },
  {
   "cell_type": "markdown",
   "id": "275203de-dd57-4fc8-883f-a28695fe053f",
   "metadata": {},
   "source": [
    "Save test data prediction to CSV file"
   ]
  },
  {
   "cell_type": "code",
   "execution_count": 580,
   "id": "a390f5a2-00af-4a51-96be-0af85091810b",
   "metadata": {},
   "outputs": [],
   "source": [
    "test_dfx=test_df\n",
    "test_dfx[\"SalePrice\"] = y_te\n",
    "pred_simple = test_dfx[[\"PID\",\"SalePrice\"]]"
   ]
  },
  {
   "cell_type": "code",
   "execution_count": 581,
   "id": "3328887e-3c84-4e73-9010-42aae8475cb3",
   "metadata": {},
   "outputs": [
    {
     "data": {
      "text/plain": [
       "(500, 2)"
      ]
     },
     "execution_count": 581,
     "metadata": {},
     "output_type": "execute_result"
    }
   ],
   "source": [
    "pred_simple.shape"
   ]
  },
  {
   "cell_type": "code",
   "execution_count": 582,
   "id": "d18eccbe-4cd4-400c-95fe-3e02bbd2f7aa",
   "metadata": {},
   "outputs": [],
   "source": [
    "pred_simple.to_csv(\"predictions-simple-model.csv\", index=False)"
   ]
  },
  {
   "cell_type": "markdown",
   "id": "524a5018-650b-4403-9729-cac3f570ba99",
   "metadata": {},
   "source": [
    "- Intermediate model"
   ]
  },
  {
   "cell_type": "markdown",
   "id": "2a6edb4d-6c22-4bf9-9038-480d58a1467c",
   "metadata": {},
   "source": [
    "For this part all of the columns from the above list of correlation numbers would be taken for model computation"
   ]
  },
  {
   "cell_type": "code",
   "execution_count": 583,
   "id": "70ff3b57-7318-44fe-968f-d6f161f4c116",
   "metadata": {},
   "outputs": [],
   "source": [
    "df_int=data_df[['SalePrice','Overall Qual','Gr Liv Area','Garage Cars','Garage Area','Full Bath','Year Built','Year Remod/Add','1st Flr SF','TotRms AbvGrd','Fireplaces','Open Porch SF']]"
   ]
  },
  {
   "cell_type": "code",
   "execution_count": 584,
   "id": "03b7a33e-c555-44d6-a9be-7a7e3eac2f39",
   "metadata": {},
   "outputs": [],
   "source": [
    "# Extract input matrix X\n",
    "X2 = df_int.drop('SalePrice', axis=1).values\n",
    "# Extract target vector y\n",
    "Y2 = df_int.SalePrice.values"
   ]
  },
  {
   "cell_type": "code",
   "execution_count": 585,
   "id": "bb54e874-a26f-47d3-90e4-ebdbe525c0e7",
   "metadata": {},
   "outputs": [
    {
     "name": "stdout",
     "output_type": "stream",
     "text": [
      "w: [ 2.04485453e+04  4.40164088e+01  8.10104368e+03  3.35239162e+01\n",
      "  2.68325201e+03 -1.09066252e+01 -1.09066252e+01  3.39858078e+01\n",
      " -7.88664839e+02  4.99782756e+03  4.99050252e+01]\n",
      "RSS: []\n"
     ]
    }
   ],
   "source": [
    "# get the vector of coefficients  and RSS values\n",
    "w2, rss2, _, _ = lstsq(X2, Y2)\n",
    "print(\"w:\", w2)\n",
    "print(\"RSS:\", rss2)"
   ]
  },
  {
   "cell_type": "code",
   "execution_count": 586,
   "id": "c386ddeb-0efc-494e-bd55-73e307f355a1",
   "metadata": {},
   "outputs": [],
   "source": [
    "#get the linear regression model\n",
    "model = LinearRegression().fit(X2, Y2)"
   ]
  },
  {
   "cell_type": "code",
   "execution_count": 587,
   "id": "06657b2d-c23b-4d5d-b4ac-50756042766e",
   "metadata": {},
   "outputs": [
    {
     "name": "stdout",
     "output_type": "stream",
     "text": [
      "Slope coefficients: [16885.19594812    48.74265417  4095.59436151    33.92547709\n",
      " -4761.23006414   186.54403896   186.54403896    34.05978671\n",
      "   196.5018754   5748.97332057    33.80939058]\n",
      "Intercept: -759475.079950347\n"
     ]
    }
   ],
   "source": [
    "# Create a linear regression object\n",
    "lr = LinearRegression()\n",
    "# Fit the model\n",
    "lr.fit(X2, Y2)\n",
    "# Print coefficients\n",
    "print(\"Slope coefficients:\", lr.coef_)\n",
    "print(\"Intercept:\", lr.intercept_)"
   ]
  },
  {
   "cell_type": "markdown",
   "id": "eb4900cc-ba4a-4fea-8ea0-bf0100dc43a4",
   "metadata": {},
   "source": [
    "Next step is to evaluate the model and get the R^2 coefficient of determination"
   ]
  },
  {
   "cell_type": "code",
   "execution_count": 588,
   "id": "b7c99510-5174-4b8b-9fa4-165925d15190",
   "metadata": {},
   "outputs": [
    {
     "data": {
      "text/plain": [
       "('coefficient of determination:', 0.8447540559013402)"
      ]
     },
     "execution_count": 588,
     "metadata": {},
     "output_type": "execute_result"
    }
   ],
   "source": [
    "r_sq = model.score(X2, Y2)\n",
    "('coefficient of determination:', r_sq)"
   ]
  },
  {
   "cell_type": "markdown",
   "id": "9fa664e6-6226-4a20-89fa-ec5b298de7a5",
   "metadata": {},
   "source": [
    "The R^2 score has increased with adding more columns. Hence, the model performs better than baseline and simple model"
   ]
  },
  {
   "cell_type": "code",
   "execution_count": 589,
   "id": "8b85df98-6612-4c34-b761-343630e61acf",
   "metadata": {},
   "outputs": [
    {
     "name": "stdout",
     "output_type": "stream",
     "text": [
      "[232747.55713582 195439.43032681  80187.30366212 ... 132391.81967006\n",
      " 138547.94641419 139624.22359699]\n"
     ]
    }
   ],
   "source": [
    "# Compute predictions for intermidiate model\n",
    "yi_pred = np.matmul(X2, w2)\n",
    "print(yi_pred)"
   ]
  },
  {
   "cell_type": "markdown",
   "id": "11dc7f1d-21a1-4e57-92bd-76cedd9c2dc9",
   "metadata": {},
   "source": [
    "Same computations for test data "
   ]
  },
  {
   "cell_type": "code",
   "execution_count": 590,
   "id": "88d09273-27d5-4de6-9263-27e414aa7b5e",
   "metadata": {},
   "outputs": [
    {
     "data": {
      "text/plain": [
       "array([195897.64084557, 117601.67365453, 261790.22366305, 122433.85399797,\n",
       "                   nan, 174181.38543869,  41162.31376181,             nan,\n",
       "       180797.65537818, 107849.72004684])"
      ]
     },
     "execution_count": 590,
     "metadata": {},
     "output_type": "execute_result"
    }
   ],
   "source": [
    "#test_df['Year Built'].fillna(value=\"0\", inplace=True)\n",
    "test_dfi=test_df[['Overall Qual','Gr Liv Area','Garage Cars','Garage Area','Full Bath','Year Built','Year Remod/Add','1st Flr SF','TotRms AbvGrd','Fireplaces','Open Porch SF']]\n",
    "X2_te = test_dfi.values\n",
    "\n",
    "# Compute predictions for intermidiate model\n",
    "yit_pred = np.matmul(X2_te, w2)\n",
    "yit_pred[:10]"
   ]
  },
  {
   "cell_type": "markdown",
   "id": "099c3f03-5ff6-403e-a310-802d95a89cde",
   "metadata": {},
   "source": [
    "Save the test prediction for CSV file"
   ]
  },
  {
   "cell_type": "code",
   "execution_count": 591,
   "id": "eb524877-31b8-4def-86ce-20323146596a",
   "metadata": {},
   "outputs": [],
   "source": [
    "test_df1=test_df\n",
    "test_df1[\"SalePrice\"] = yit_pred\n",
    "pred_int = test_df1[[\"PID\",\"SalePrice\"]]\n",
    "pred_int.to_csv(\"predictions-intermediate-model.csv\", index=False)"
   ]
  },
  {
   "cell_type": "code",
   "execution_count": 592,
   "id": "b0a75c46-2353-430b-9b8e-b19bc24cbb07",
   "metadata": {},
   "outputs": [
    {
     "data": {
      "text/plain": [
       "(500, 2)"
      ]
     },
     "execution_count": 592,
     "metadata": {},
     "output_type": "execute_result"
    }
   ],
   "source": [
    "pred_int.shape"
   ]
  },
  {
   "cell_type": "code",
   "execution_count": 593,
   "id": "fa0cb971-ce37-4f34-81e3-61895be026b0",
   "metadata": {},
   "outputs": [
    {
     "data": {
      "text/html": [
       "<div>\n",
       "<style scoped>\n",
       "    .dataframe tbody tr th:only-of-type {\n",
       "        vertical-align: middle;\n",
       "    }\n",
       "\n",
       "    .dataframe tbody tr th {\n",
       "        vertical-align: top;\n",
       "    }\n",
       "\n",
       "    .dataframe thead th {\n",
       "        text-align: right;\n",
       "    }\n",
       "</style>\n",
       "<table border=\"1\" class=\"dataframe\">\n",
       "  <thead>\n",
       "    <tr style=\"text-align: right;\">\n",
       "      <th></th>\n",
       "      <th>PID</th>\n",
       "      <th>SalePrice</th>\n",
       "    </tr>\n",
       "  </thead>\n",
       "  <tbody>\n",
       "    <tr>\n",
       "      <th>0</th>\n",
       "      <td>909279080</td>\n",
       "      <td>195897.640846</td>\n",
       "    </tr>\n",
       "    <tr>\n",
       "      <th>1</th>\n",
       "      <td>907126050</td>\n",
       "      <td>117601.673655</td>\n",
       "    </tr>\n",
       "    <tr>\n",
       "      <th>2</th>\n",
       "      <td>528144030</td>\n",
       "      <td>261790.223663</td>\n",
       "    </tr>\n",
       "    <tr>\n",
       "      <th>3</th>\n",
       "      <td>535452060</td>\n",
       "      <td>122433.853998</td>\n",
       "    </tr>\n",
       "    <tr>\n",
       "      <th>4</th>\n",
       "      <td>911202100</td>\n",
       "      <td>NaN</td>\n",
       "    </tr>\n",
       "  </tbody>\n",
       "</table>\n",
       "</div>"
      ],
      "text/plain": [
       "         PID      SalePrice\n",
       "0  909279080  195897.640846\n",
       "1  907126050  117601.673655\n",
       "2  528144030  261790.223663\n",
       "3  535452060  122433.853998\n",
       "4  911202100            NaN"
      ]
     },
     "execution_count": 593,
     "metadata": {},
     "output_type": "execute_result"
    }
   ],
   "source": [
    "pred_int.head()"
   ]
  },
  {
   "cell_type": "markdown",
   "id": "be7b8673-0125-49a0-91f5-e15e10c5e806",
   "metadata": {},
   "source": [
    "- Complex model\n",
    "\n",
    "For this part, given that all features should be involved, I'd fit linear model to SGDRegressor using the gradient descent algorithm to optimze Huber and Squared loss functions"
   ]
  },
  {
   "cell_type": "markdown",
   "id": "2cc40612-1e53-4971-acc0-c4d85e14c35c",
   "metadata": {},
   "source": [
    "This time, we will track the value of the root mean squared error (RMSE) function at each iteration. If our implementation is correct, this value should decrease after each step."
   ]
  },
  {
   "cell_type": "markdown",
   "id": "4f39f86a-c317-4186-bba8-4a3abef3a630",
   "metadata": {},
   "source": [
    "Before moving to the model buidling, few columns still need to be encoded. So, for this part I will use One-hot encoding to transforma 3 last columns containing categorical values"
   ]
  },
  {
   "cell_type": "code",
   "execution_count": 594,
   "id": "11fdf565-ae89-41fa-89f1-8b2b553bc166",
   "metadata": {},
   "outputs": [
    {
     "data": {
      "text/plain": [
       "(1897, 92)"
      ]
     },
     "execution_count": 594,
     "metadata": {},
     "output_type": "execute_result"
    }
   ],
   "source": [
    "# One-hot encoding\n",
    "encoded_df = pd.get_dummies(data_df, columns=[\"Year Built1\", \"Year Remod/Add1\",\"Garage Yr Blt1\"])\n",
    "encoded_df.shape"
   ]
  },
  {
   "cell_type": "code",
   "execution_count": 595,
   "id": "7dbf5e8b-0560-453c-be21-1403c3056011",
   "metadata": {},
   "outputs": [],
   "source": [
    "# Create input matrices and output vectors\n",
    "X3 = encoded_df.drop('SalePrice', axis=1).values\n",
    "y3 = encoded_df.SalePrice.values"
   ]
  },
  {
   "cell_type": "code",
   "execution_count": 596,
   "id": "4d02c784-52c1-4304-90ee-1819db77f1b5",
   "metadata": {},
   "outputs": [
    {
     "name": "stdout",
     "output_type": "stream",
     "text": [
      "Slope coefficients: [-7.90417578e+00  5.35994457e-06 -8.21721310e+02 -1.86005259e+03\n",
      "  5.34998966e+01  9.07303209e-01  2.02588511e+04  2.01696774e+03\n",
      " -1.51169079e+03 -2.11103003e+03  2.42829886e+04  1.91050680e+02\n",
      "  1.29839936e+03  8.54653117e+01  2.56314849e+02  5.25210721e+03\n",
      "  7.59276287e+02  5.08259645e+02  9.94390995e+03  5.19979084e+03\n",
      "  1.51737720e+02  1.51737726e+02  1.63266641e+03 -3.18845396e+03\n",
      " -1.00386398e+03  3.68246058e+02  2.32554434e+03  2.36104597e+01\n",
      " -7.49357900e+03  9.72122662e+02 -4.88782771e+02 -2.48363842e+03\n",
      "  3.06527097e+03 -1.58426631e+03 -1.18253579e+02  1.67307635e+01\n",
      " -1.83022628e+03 -4.77890325e-01  7.62260601e-03  1.62604768e+01\n",
      "  5.40430064e+02 -8.93662996e+02 -8.37507590e+02  5.31693015e+02\n",
      "  6.97745507e+01  7.04703090e+01 -1.56259313e+02 -1.60144726e+01\n",
      "  4.08236308e+03  3.81649835e+02 -2.64226641e+03 -7.59388784e+02\n",
      " -3.12763195e+03  7.90805643e-09 -6.07782746e+03  1.22094023e+03\n",
      "  4.91624158e+03  2.79192406e+03 -7.16733723e+02  6.26642709e+02\n",
      " -5.96147950e+00 -1.93839208e+03  5.79220420e+03  1.66745223e+01\n",
      " -9.41537590e+02  1.95106719e+03  1.96470060e+02  1.42997143e+01\n",
      "  2.08263364e+01  1.65801740e+01 -7.22907505e+02  2.87118431e+01\n",
      "  1.64618541e-10 -8.18545232e-11 -2.49956181e+02 -4.77959340e+03\n",
      " -6.56451914e+00  1.24358879e+02 -5.74085118e+03 -3.60144252e+02\n",
      "  3.31803142e+03 -2.30783808e+02 -1.56215659e+03  1.79294039e+03\n",
      " -1.56215659e+03  1.79294039e+03 -2.30783808e+02 -1.54214859e+01\n",
      " -1.06326447e+03  1.22332365e+01  1.06645272e+03]\n",
      "Intercept: 10926977.777920505\n"
     ]
    }
   ],
   "source": [
    "from sklearn.linear_model import LinearRegression\n",
    "\n",
    "# Create a linear regression object\n",
    "lr = LinearRegression()\n",
    "\n",
    "# Fit the model\n",
    "lr.fit(X3, y3)\n",
    "\n",
    "# Print coefficients\n",
    "print(\"Slope coefficients:\", lr.coef_)\n",
    "print(\"Intercept:\", lr.intercept_)"
   ]
  },
  {
   "cell_type": "code",
   "execution_count": 597,
   "id": "9b699eca-f381-45fe-83e0-9a2394107cd6",
   "metadata": {},
   "outputs": [],
   "source": [
    "import numpy as np\n",
    "\n",
    "# Implement RMSE\n",
    "def rmse(y, y_pred):\n",
    "    return np.sqrt(np.mean(np.square(y - y_pred)))"
   ]
  },
  {
   "cell_type": "code",
   "execution_count": 598,
   "id": "46dc7f5a-925c-4342-8d13-286730eedd7e",
   "metadata": {},
   "outputs": [
    {
     "name": "stdout",
     "output_type": "stream",
     "text": [
      "Linear regression (OLS) - RMSE: 19208.37\n"
     ]
    }
   ],
   "source": [
    "from sklearn.linear_model import LinearRegression\n",
    "\n",
    "# Fit a linear regression using OLS\n",
    "lr = LinearRegression()  # Create object\n",
    "lr.fit(X3, y3)  # Fit it to train data\n",
    "\n",
    "# Evaluate model\n",
    "yc_pred = lr.predict(X3)  # Train data\n",
    "lr_rmse = rmse(y3, yc_pred)\n",
    "\n",
    "print(\"Linear regression (OLS) - RMSE: {:.2f}\".format(lr_rmse))"
   ]
  },
  {
   "cell_type": "code",
   "execution_count": 599,
   "id": "f641ce53-f541-432c-8b34-3f1e68fa3748",
   "metadata": {},
   "outputs": [
    {
     "data": {
      "text/html": [
       "<div>\n",
       "<style scoped>\n",
       "    .dataframe tbody tr th:only-of-type {\n",
       "        vertical-align: middle;\n",
       "    }\n",
       "\n",
       "    .dataframe tbody tr th {\n",
       "        vertical-align: top;\n",
       "    }\n",
       "\n",
       "    .dataframe thead th {\n",
       "        text-align: right;\n",
       "    }\n",
       "</style>\n",
       "<table border=\"1\" class=\"dataframe\">\n",
       "  <thead>\n",
       "    <tr style=\"text-align: right;\">\n",
       "      <th></th>\n",
       "      <th>Order</th>\n",
       "      <th>PID</th>\n",
       "      <th>MS SubClass</th>\n",
       "      <th>MS Zoning</th>\n",
       "      <th>Lot Frontage</th>\n",
       "      <th>Lot Area</th>\n",
       "      <th>Street</th>\n",
       "      <th>Alley</th>\n",
       "      <th>Lot Shape</th>\n",
       "      <th>Land Contour</th>\n",
       "      <th>...</th>\n",
       "      <th>Misc Feature</th>\n",
       "      <th>Misc Val</th>\n",
       "      <th>Mo Sold</th>\n",
       "      <th>Yr Sold</th>\n",
       "      <th>Sale Type</th>\n",
       "      <th>Sale Condition</th>\n",
       "      <th>Year Built1</th>\n",
       "      <th>Year Remod/Add1</th>\n",
       "      <th>Garage Yr Blt1</th>\n",
       "      <th>SalePrice</th>\n",
       "    </tr>\n",
       "  </thead>\n",
       "  <tbody>\n",
       "    <tr>\n",
       "      <th>0</th>\n",
       "      <td>2217</td>\n",
       "      <td>909279080</td>\n",
       "      <td>4</td>\n",
       "      <td>3</td>\n",
       "      <td>0</td>\n",
       "      <td>11275</td>\n",
       "      <td>1</td>\n",
       "      <td>2</td>\n",
       "      <td>0.0</td>\n",
       "      <td>1</td>\n",
       "      <td>...</td>\n",
       "      <td>2</td>\n",
       "      <td>0</td>\n",
       "      <td>3</td>\n",
       "      <td>2007</td>\n",
       "      <td>7</td>\n",
       "      <td>4</td>\n",
       "      <td>modern</td>\n",
       "      <td>recently_renovated</td>\n",
       "      <td>old_garage</td>\n",
       "      <td>195897.640846</td>\n",
       "    </tr>\n",
       "    <tr>\n",
       "      <th>1</th>\n",
       "      <td>837</td>\n",
       "      <td>907126050</td>\n",
       "      <td>0</td>\n",
       "      <td>3</td>\n",
       "      <td>65.0</td>\n",
       "      <td>9757</td>\n",
       "      <td>1</td>\n",
       "      <td>2</td>\n",
       "      <td>3.0</td>\n",
       "      <td>2</td>\n",
       "      <td>...</td>\n",
       "      <td>2</td>\n",
       "      <td>0</td>\n",
       "      <td>10</td>\n",
       "      <td>2009</td>\n",
       "      <td>7</td>\n",
       "      <td>4</td>\n",
       "      <td>very_old</td>\n",
       "      <td>old_remod</td>\n",
       "      <td>very_old_garage</td>\n",
       "      <td>117601.673655</td>\n",
       "    </tr>\n",
       "    <tr>\n",
       "      <th>2</th>\n",
       "      <td>2397</td>\n",
       "      <td>528144030</td>\n",
       "      <td>5</td>\n",
       "      <td>3</td>\n",
       "      <td>86.0</td>\n",
       "      <td>11065</td>\n",
       "      <td>1</td>\n",
       "      <td>2</td>\n",
       "      <td>0.0</td>\n",
       "      <td>3</td>\n",
       "      <td>...</td>\n",
       "      <td>2</td>\n",
       "      <td>0</td>\n",
       "      <td>10</td>\n",
       "      <td>2006</td>\n",
       "      <td>5</td>\n",
       "      <td>5</td>\n",
       "      <td>old_mid_cent</td>\n",
       "      <td>need_renovation</td>\n",
       "      <td>old_garage</td>\n",
       "      <td>261790.223663</td>\n",
       "    </tr>\n",
       "    <tr>\n",
       "      <th>3</th>\n",
       "      <td>1963</td>\n",
       "      <td>535452060</td>\n",
       "      <td>0</td>\n",
       "      <td>3</td>\n",
       "      <td>70.0</td>\n",
       "      <td>7000</td>\n",
       "      <td>1</td>\n",
       "      <td>2</td>\n",
       "      <td>3.0</td>\n",
       "      <td>3</td>\n",
       "      <td>...</td>\n",
       "      <td>2</td>\n",
       "      <td>0</td>\n",
       "      <td>4</td>\n",
       "      <td>2007</td>\n",
       "      <td>7</td>\n",
       "      <td>3</td>\n",
       "      <td>old_mid_cent</td>\n",
       "      <td>need_renovation</td>\n",
       "      <td>very_old_garage</td>\n",
       "      <td>122433.853998</td>\n",
       "    </tr>\n",
       "    <tr>\n",
       "      <th>4</th>\n",
       "      <td>306</td>\n",
       "      <td>911202100</td>\n",
       "      <td>4</td>\n",
       "      <td>0</td>\n",
       "      <td>66.0</td>\n",
       "      <td>8712</td>\n",
       "      <td>1</td>\n",
       "      <td>1</td>\n",
       "      <td>3.0</td>\n",
       "      <td>1</td>\n",
       "      <td>...</td>\n",
       "      <td>2</td>\n",
       "      <td>0</td>\n",
       "      <td>1</td>\n",
       "      <td>2010</td>\n",
       "      <td>7</td>\n",
       "      <td>0</td>\n",
       "      <td>0</td>\n",
       "      <td>0</td>\n",
       "      <td>0</td>\n",
       "      <td>NaN</td>\n",
       "    </tr>\n",
       "  </tbody>\n",
       "</table>\n",
       "<p>5 rows × 85 columns</p>\n",
       "</div>"
      ],
      "text/plain": [
       "   Order        PID  MS SubClass  MS Zoning Lot Frontage  Lot Area  Street  \\\n",
       "0   2217  909279080            4          3            0     11275       1   \n",
       "1    837  907126050            0          3         65.0      9757       1   \n",
       "2   2397  528144030            5          3         86.0     11065       1   \n",
       "3   1963  535452060            0          3         70.0      7000       1   \n",
       "4    306  911202100            4          0         66.0      8712       1   \n",
       "\n",
       "   Alley  Lot Shape  Land Contour  ...  Misc Feature  Misc Val  Mo Sold  \\\n",
       "0      2        0.0             1  ...             2         0        3   \n",
       "1      2        3.0             2  ...             2         0       10   \n",
       "2      2        0.0             3  ...             2         0       10   \n",
       "3      2        3.0             3  ...             2         0        4   \n",
       "4      1        3.0             1  ...             2         0        1   \n",
       "\n",
       "   Yr Sold  Sale Type  Sale Condition   Year Built1     Year Remod/Add1  \\\n",
       "0     2007          7               4        modern  recently_renovated   \n",
       "1     2009          7               4      very_old           old_remod   \n",
       "2     2006          5               5  old_mid_cent     need_renovation   \n",
       "3     2007          7               3  old_mid_cent     need_renovation   \n",
       "4     2010          7               0             0                   0   \n",
       "\n",
       "    Garage Yr Blt1      SalePrice  \n",
       "0       old_garage  195897.640846  \n",
       "1  very_old_garage  117601.673655  \n",
       "2       old_garage  261790.223663  \n",
       "3  very_old_garage  122433.853998  \n",
       "4                0            NaN  \n",
       "\n",
       "[5 rows x 85 columns]"
      ]
     },
     "execution_count": 599,
     "metadata": {},
     "output_type": "execute_result"
    }
   ],
   "source": [
    "test_df.head()"
   ]
  },
  {
   "cell_type": "code",
   "execution_count": 600,
   "id": "6f723cef-8241-411a-bd9c-b62f091094b3",
   "metadata": {},
   "outputs": [
    {
     "data": {
      "text/plain": [
       "(500, 92)"
      ]
     },
     "execution_count": 600,
     "metadata": {},
     "output_type": "execute_result"
    }
   ],
   "source": [
    "# One-hot encoding\n",
    "encoded_test = pd.get_dummies(test_df, columns=[\"Year Built1\", \"Year Remod/Add1\",\"Garage Yr Blt1\"])\n",
    "\n",
    "# drop two columns that are not present in the training data to match the column total number\n",
    "encoded_test.drop(['Year Built1_0', 'Year Remod/Add1_0'], axis=1, inplace=True)\n",
    "encoded_test.shape"
   ]
  },
  {
   "cell_type": "markdown",
   "id": "8e5c9938-d92f-48eb-8df2-6db5a9fa361b",
   "metadata": {},
   "source": [
    "Before fitting the model, few columns again need to have Nan values replaced"
   ]
  },
  {
   "cell_type": "code",
   "execution_count": 601,
   "id": "f23b574e-1efa-42c5-83e8-a46ae4fa1f80",
   "metadata": {},
   "outputs": [
    {
     "data": {
      "text/plain": [
       "[]"
      ]
     },
     "execution_count": 601,
     "metadata": {},
     "output_type": "execute_result"
    }
   ],
   "source": [
    "encoded_test['Year Built'].fillna(value=\"0\", inplace=True)\n",
    "encoded_test['Year Remod/Add'].fillna(value=\"0\", inplace=True)\n",
    "encoded_test['Garage Yr Blt'].fillna(value=\"0\", inplace=True)\n",
    "encoded_test['SalePrice'].fillna(value=\"0\", inplace=True)\n",
    "\n",
    "#verify the result\n",
    "encoded_test.columns[encoded_test.isna().any()].tolist()"
   ]
  },
  {
   "cell_type": "markdown",
   "id": "9f21ee97-79fd-48a6-a987-2d556b54de30",
   "metadata": {},
   "source": [
    "Now that the column number is matching, X values can be defined and prediction computed"
   ]
  },
  {
   "cell_type": "code",
   "execution_count": 602,
   "id": "e4cff465-1733-4343-a64d-2fc3228cd118",
   "metadata": {},
   "outputs": [
    {
     "data": {
      "text/plain": [
       "array([ 217289.60061121,  140938.8448082 ,  283263.94965217,\n",
       "        126614.82171819, -471596.45266063,  172058.39826193,\n",
       "         41373.39254929, -435809.42518028,  198496.05209988,\n",
       "        108890.91447637])"
      ]
     },
     "execution_count": 602,
     "metadata": {},
     "output_type": "execute_result"
    }
   ],
   "source": [
    "X3_te = encoded_test.drop('SalePrice', axis=1).values\n",
    "\n",
    "# Compute predictions for intermidiate model\n",
    "yc_pred_t = lr.predict(X3_te)\n",
    "yc_pred_t[:10]"
   ]
  },
  {
   "cell_type": "code",
   "execution_count": 603,
   "id": "ae280126-dabf-4f6f-b0e6-d8ce7834b2ec",
   "metadata": {},
   "outputs": [],
   "source": [
    "test_dfc=test_df\n",
    "test_dfc[\"SalePrice\"] = yc_pred_t\n",
    "pred_comp = test_dfc[[\"PID\",\"SalePrice\"]]\n",
    "pred_comp.to_csv(\"predictions-complex-model.csv\", index=False)"
   ]
  },
  {
   "cell_type": "code",
   "execution_count": 604,
   "id": "18a8a26c-26b1-4957-8467-5f82d95e0b26",
   "metadata": {},
   "outputs": [
    {
     "data": {
      "text/plain": [
       "(500, 2)"
      ]
     },
     "execution_count": 604,
     "metadata": {},
     "output_type": "execute_result"
    }
   ],
   "source": [
    "pred_comp.shape"
   ]
  },
  {
   "cell_type": "markdown",
   "id": "d6eff823-69ef-4111-9d33-75a3acfa4082",
   "metadata": {},
   "source": [
    "### Regularization"
   ]
  },
  {
   "cell_type": "markdown",
   "id": "e3c25cf4-3e94-4339-8b79-bc899cfaae26",
   "metadata": {},
   "source": [
    "For this part the Regularization will be applied to Complex model through L2 Ridge regression method. However, the XY values would need to be difned again as logarithmic scaling is applied, and the data is split into Training and Validation sets.\n"
   ]
  },
  {
   "cell_type": "code",
   "execution_count": 395,
   "id": "2e80a176-065e-4d53-b00f-65185bef5068",
   "metadata": {},
   "outputs": [],
   "source": [
    "#get the copy of data used for comple model built\n",
    "df_prep=encoded_df"
   ]
  },
  {
   "cell_type": "code",
   "execution_count": 396,
   "id": "7b7e1ca6-1503-4124-93c1-c387ced69836",
   "metadata": {},
   "outputs": [
    {
     "name": "stdout",
     "output_type": "stream",
     "text": [
      "Train: (948, 91) (948,)\n",
      "Validation: (949, 91) (949,)\n"
     ]
    }
   ],
   "source": [
    "from sklearn.model_selection import train_test_split\n",
    "\n",
    "# Create X, y\n",
    "X4 = df_prep.drop(\"SalePrice\", axis=1).values\n",
    "y4 = np.log10(df_prep.SalePrice).values\n",
    "\n",
    "# Split into train/validation sets\n",
    "X_tr, X_val, y_tr, y_val = train_test_split(X4, y4, test_size=0.5, random_state=0)\n",
    "\n",
    "print(\"Train:\", X_tr.shape, y_tr.shape)\n",
    "print(\"Validation:\", X_val.shape, y_val.shape)"
   ]
  },
  {
   "cell_type": "code",
   "execution_count": 397,
   "id": "5451261b-0c79-4d02-98af-e3004438599b",
   "metadata": {},
   "outputs": [],
   "source": [
    "from sklearn.preprocessing import StandardScaler\n",
    "\n",
    "# Standardize features\n",
    "scaler = StandardScaler()\n",
    "X_tr_rescaled = scaler.fit_transform(X_tr)\n",
    "X_val_rescaled = scaler.transform(X_val)"
   ]
  },
  {
   "cell_type": "code",
   "execution_count": 398,
   "id": "d630bf9d-fac5-4187-8e70-904f3f88a333",
   "metadata": {},
   "outputs": [
    {
     "name": "stdout",
     "output_type": "stream",
     "text": [
      "Train MSE: 0.0020\n",
      "Validation MSE: 0.0030\n"
     ]
    }
   ],
   "source": [
    "from sklearn.linear_model import LinearRegression\n",
    "from sklearn.metrics import mean_squared_error as MSE\n",
    "\n",
    "# Try with a linear regression\n",
    "lr = LinearRegression()\n",
    "lr.fit(X_tr_rescaled, y_tr)\n",
    "\n",
    "print(\"Train MSE: {:.4f}\".format(MSE(y_tr, lr.predict(X_tr_rescaled))))\n",
    "print(\"Validation MSE: {:.4f}\".format(MSE(y_val, lr.predict(X_val_rescaled))))"
   ]
  },
  {
   "cell_type": "code",
   "execution_count": 399,
   "id": "3d7093ca-ed54-451b-99ef-c01bbbb4548d",
   "metadata": {},
   "outputs": [
    {
     "data": {
      "image/png": "[encoded data removed]",
      "text/plain": [
       "<Figure size 432x288 with 1 Axes>"
      ]
     },
     "metadata": {
      "needs_background": "light"
     },
     "output_type": "display_data"
    }
   ],
   "source": [
    "plt.hist(lr.coef_, bins=30)\n",
    "plt.xlabel(\"coefficients\")\n",
    "plt.yscale('log')\n",
    "plt.show()"
   ]
  },
  {
   "cell_type": "markdown",
   "id": "9585154f-926e-471e-af74-bafc4da55b97",
   "metadata": {},
   "source": [
    "the Coefficient seem to be high one point, so this can solved with Rdge functions"
   ]
  },
  {
   "cell_type": "code",
   "execution_count": 400,
   "id": "5e6ba3b6-04f9-4faf-8e49-b0151d29b629",
   "metadata": {},
   "outputs": [],
   "source": [
    "from sklearn.linear_model import Ridge\n",
    "from sklearn.metrics import mean_absolute_error as MAE\n",
    "\n",
    "# Variable to store the results\n",
    "gs_results = []\n",
    "\n",
    "# Grid search\n",
    "for alpha in np.logspace(-4, 8, num=50):\n",
    "    # Create and fit ridge regression\n",
    "    ridge = Ridge(alpha=alpha)\n",
    "    ridge.fit(X_tr_rescaled, y_tr)\n",
    "\n",
    "    # Save model and its performance on train/validation sets\n",
    "    gs_results.append(\n",
    "        {\n",
    "            \"alpha\": alpha,\n",
    "            \"train_mse\": MSE(y_tr, ridge.predict(X_tr_rescaled)),\n",
    "            \"train_mae\": MAE(10 ** y_tr, 10 ** ridge.predict(X_tr_rescaled)),\n",
    "            \"validation_mse\": MSE(y_val, ridge.predict(X_val_rescaled)),\n",
    "            \"validation_mae\": MAE(10 ** y_val, 10 ** ridge.predict(X_val_rescaled)),\n",
    "        }\n",
    "    )"
   ]
  },
  {
   "cell_type": "code",
   "execution_count": 401,
   "id": "023468d2-d95f-4b7c-9b8a-4dad0454b15b",
   "metadata": {},
   "outputs": [
    {
     "data": {
      "text/html": [
       "<div>\n",
       "<style scoped>\n",
       "    .dataframe tbody tr th:only-of-type {\n",
       "        vertical-align: middle;\n",
       "    }\n",
       "\n",
       "    .dataframe tbody tr th {\n",
       "        vertical-align: top;\n",
       "    }\n",
       "\n",
       "    .dataframe thead th {\n",
       "        text-align: right;\n",
       "    }\n",
       "</style>\n",
       "<table border=\"1\" class=\"dataframe\">\n",
       "  <thead>\n",
       "    <tr style=\"text-align: right;\">\n",
       "      <th></th>\n",
       "      <th>alpha</th>\n",
       "      <th>train_mse</th>\n",
       "      <th>train_mae</th>\n",
       "      <th>validation_mse</th>\n",
       "      <th>validation_mae</th>\n",
       "    </tr>\n",
       "  </thead>\n",
       "  <tbody>\n",
       "    <tr>\n",
       "      <th>0</th>\n",
       "      <td>0.000100</td>\n",
       "      <td>0.002009</td>\n",
       "      <td>12294.783058</td>\n",
       "      <td>0.002683</td>\n",
       "      <td>13787.608952</td>\n",
       "    </tr>\n",
       "    <tr>\n",
       "      <th>1</th>\n",
       "      <td>0.000176</td>\n",
       "      <td>0.002009</td>\n",
       "      <td>12294.775043</td>\n",
       "      <td>0.002682</td>\n",
       "      <td>13787.106394</td>\n",
       "    </tr>\n",
       "    <tr>\n",
       "      <th>2</th>\n",
       "      <td>0.000309</td>\n",
       "      <td>0.002009</td>\n",
       "      <td>12294.760980</td>\n",
       "      <td>0.002682</td>\n",
       "      <td>13786.226077</td>\n",
       "    </tr>\n",
       "    <tr>\n",
       "      <th>3</th>\n",
       "      <td>0.000543</td>\n",
       "      <td>0.002009</td>\n",
       "      <td>12294.736332</td>\n",
       "      <td>0.002681</td>\n",
       "      <td>13784.686394</td>\n",
       "    </tr>\n",
       "    <tr>\n",
       "      <th>4</th>\n",
       "      <td>0.000954</td>\n",
       "      <td>0.002009</td>\n",
       "      <td>12294.693225</td>\n",
       "      <td>0.002680</td>\n",
       "      <td>13782.000183</td>\n",
       "    </tr>\n",
       "  </tbody>\n",
       "</table>\n",
       "</div>"
      ],
      "text/plain": [
       "      alpha  train_mse     train_mae  validation_mse  validation_mae\n",
       "0  0.000100   0.002009  12294.783058        0.002683    13787.608952\n",
       "1  0.000176   0.002009  12294.775043        0.002682    13787.106394\n",
       "2  0.000309   0.002009  12294.760980        0.002682    13786.226077\n",
       "3  0.000543   0.002009  12294.736332        0.002681    13784.686394\n",
       "4  0.000954   0.002009  12294.693225        0.002680    13782.000183"
      ]
     },
     "execution_count": 401,
     "metadata": {},
     "output_type": "execute_result"
    }
   ],
   "source": [
    "# Convert results to DataFrame\n",
    "gs_results = pd.DataFrame(gs_results)\n",
    "gs_results.head()"
   ]
  },
  {
   "cell_type": "code",
   "execution_count": 402,
   "id": "eb427d0c-04fb-460c-89c0-a8bdac7d3f9b",
   "metadata": {},
   "outputs": [
    {
     "data": {
      "image/png": "[encoded data removed]",
      "text/plain": [
       "<Figure size 432x288 with 1 Axes>"
      ]
     },
     "metadata": {
      "needs_background": "light"
     },
     "output_type": "display_data"
    }
   ],
   "source": [
    "# Plot the validation curves\n",
    "plt.semilogx(gs_results[\"alpha\"], gs_results[\"train_mse\"], label=\"train curve\")\n",
    "plt.semilogx(\n",
    "    gs_results[\"alpha\"], gs_results[\"validation_mse\"], label=\"validation curve\"\n",
    ")\n",
    "plt.xlabel(\"$log_{10}(alpha)$\")\n",
    "plt.ylabel(\"MSE\")\n",
    "plt.legend()\n",
    "plt.show()"
   ]
  },
  {
   "cell_type": "markdown",
   "id": "d8d5c5ae-6b1d-4528-8e60-a06363f75eb4",
   "metadata": {},
   "source": [
    "The optimal range of alpha values seems to be around 10^3, the model starts overfitting when alpha is smaller than 10^2 and The models starts underfitting when alpha is larger than 10^4"
   ]
  },
  {
   "cell_type": "markdown",
   "id": "1a402926-2921-4efa-924e-608bff3bcaa2",
   "metadata": {},
   "source": [
    "Now let's calculate the largest coeficient and intercept value for predicition"
   ]
  },
  {
   "cell_type": "code",
   "execution_count": 403,
   "id": "aa9c60bd-4699-43aa-a601-065a66281c19",
   "metadata": {},
   "outputs": [
    {
     "name": "stdout",
     "output_type": "stream",
     "text": [
      "Largest coefficient: 1.3e-08\n",
      "Intercept: 5.21\n"
     ]
    }
   ],
   "source": [
    "# Fit a model with a very strong regularization\n",
    "strong_ridge = Ridge(alpha=10 ** 10)\n",
    "strong_ridge.fit(X_tr_rescaled, y_tr)\n",
    "\n",
    "print(\"Largest coefficient: {:.1e}\".format(np.max(np.abs(strong_ridge.coef_))))\n",
    "print(\"Intercept: {:.2f}\".format(strong_ridge.intercept_))"
   ]
  },
  {
   "cell_type": "code",
   "execution_count": 404,
   "id": "ba561a73-5009-4ba6-b8cd-c81beef10c68",
   "metadata": {},
   "outputs": [
    {
     "name": "stdout",
     "output_type": "stream",
     "text": [
      "Mean target value: 5.21\n"
     ]
    }
   ],
   "source": [
    "print(\"Mean target value: {:.2f}\".format(np.mean(y_tr)))"
   ]
  },
  {
   "cell_type": "markdown",
   "id": "189a5792-f08e-4af7-938b-bae30da97eee",
   "metadata": {},
   "source": [
    "The interept and mean values are the same, which is a good sign"
   ]
  },
  {
   "cell_type": "code",
   "execution_count": 405,
   "id": "ca5b169b-8ae6-4f22-86bd-55f9fb9bc35a",
   "metadata": {},
   "outputs": [
    {
     "name": "stdout",
     "output_type": "stream",
     "text": [
      "Best alpha: 7.5e+01\n",
      "Validation MSE: 0.0024\n",
      "Validation MAE: 13,096$\n"
     ]
    }
   ],
   "source": [
    "# Get entry with the best validation MSE\n",
    "best_result = gs_results.loc[gs_results.validation_mse.idxmin()]\n",
    "\n",
    "# Print the details\n",
    "print(\"Best alpha: {:.1e}\".format(best_result.alpha))\n",
    "print(\"Validation MSE: {:.4f}\".format(best_result.validation_mse))\n",
    "print(\"Validation MAE: {:,.0f}$\".format(best_result.validation_mae))"
   ]
  },
  {
   "cell_type": "markdown",
   "id": "3ae177fc-c678-4bca-b712-012f5049adf9",
   "metadata": {},
   "source": [
    "As we can see from the results above, the predictions from this model are, on average, 13,09 dollars away from the true price. "
   ]
  },
  {
   "cell_type": "markdown",
   "id": "bdb777d5-5aa4-4f02-9423-e091fe88ada8",
   "metadata": {},
   "source": [
    "### Communicating the results"
   ]
  },
  {
   "cell_type": "markdown",
   "id": "75f36d5f-2bba-4012-a01b-ab91dfb6e630",
   "metadata": {},
   "source": [
    "Since the predictions are already calculated for each model, now the Mean Abosolute Error can computed for each and further ploted for comparison."
   ]
  },
  {
   "cell_type": "code",
   "execution_count": 406,
   "id": "8f73d5d0-2f20-43ae-bfbd-fbedc5353daf",
   "metadata": {},
   "outputs": [],
   "source": [
    "# define Mean absolute error \n",
    "def MAE(y, y_pred):\n",
    "    return np.mean(np.abs(y - y_pred))"
   ]
  },
  {
   "cell_type": "code",
   "execution_count": 407,
   "id": "8852477d-b601-4581-99b2-8eefcdbee20d",
   "metadata": {},
   "outputs": [
    {
     "data": {
      "text/plain": [
       "50753.28151460745"
      ]
     },
     "execution_count": 407,
     "metadata": {},
     "output_type": "execute_result"
    }
   ],
   "source": [
    "# compare the baseline with actual data\n",
    "mae_baseline = MAE(price_b, pred_baseline)\n",
    "mae_baseline"
   ]
  },
  {
   "cell_type": "code",
   "execution_count": 408,
   "id": "98bf5880-11b9-4a2f-ae47-3c419b8806e2",
   "metadata": {},
   "outputs": [
    {
     "data": {
      "text/plain": [
       "23687.95332341489"
      ]
     },
     "execution_count": 408,
     "metadata": {},
     "output_type": "execute_result"
    }
   ],
   "source": [
    "# Compute Mean Absolute Error for Simple Model\n",
    "mae_lrs = MAE(Y, ys_pred)\n",
    "mae_lrs"
   ]
  },
  {
   "cell_type": "code",
   "execution_count": 409,
   "id": "ef999f50-769c-447d-8c07-cb003d23eab2",
   "metadata": {},
   "outputs": [
    {
     "data": {
      "text/plain": [
       "20179.435181399152"
      ]
     },
     "execution_count": 409,
     "metadata": {},
     "output_type": "execute_result"
    }
   ],
   "source": [
    "# Compute Mean Absolute Error for intermidiate model\n",
    "mae_lri = MAE(Y2, yi_pred)\n",
    "mae_lri"
   ]
  },
  {
   "cell_type": "code",
   "execution_count": 410,
   "id": "fe23bc02-a922-4031-b684-ec7d74e865c3",
   "metadata": {},
   "outputs": [
    {
     "data": {
      "text/plain": [
       "13937.04959021207"
      ]
     },
     "execution_count": 410,
     "metadata": {},
     "output_type": "execute_result"
    }
   ],
   "source": [
    "# Compute Mean Absolute Error for complex model\n",
    "mae_lrc = MAE(y3, yc_pred)\n",
    "mae_lrc"
   ]
  },
  {
   "cell_type": "markdown",
   "id": "720b290e-5f5a-4d53-8106-ed2f417cab76",
   "metadata": {},
   "source": [
    "We can now calculate the error and finally plot the comparisons fo different models"
   ]
  },
  {
   "cell_type": "code",
   "execution_count": 411,
   "id": "ec2f61c9-c117-4ff2-b3dd-56f026390845",
   "metadata": {},
   "outputs": [
    {
     "data": {
      "image/png": "[encoded data removed]",
      "text/plain": [
       "<Figure size 432x288 with 1 Axes>"
      ]
     },
     "metadata": {
      "needs_background": "light"
     },
     "output_type": "display_data"
    }
   ],
   "source": [
    "# (C) Final comparison\n",
    "\n",
    "# Bar plot\n",
    "mae_values = [mae_baseline, mae_lrs , mae_lri , mae_lrc]\n",
    "titles = [\"baseline\", \"simple\", \"intermidiate\", \"complex\"]\n",
    "\n",
    "xcor = np.arange(len(mae_values))\n",
    "plt.bar(xcor, mae_values)\n",
    "plt.xticks(xcor, titles)\n",
    "\n",
    "plt.ylabel(\"MAE\")\n",
    "plt.show()"
   ]
  },
  {
   "cell_type": "code",
   "execution_count": 412,
   "id": "4a7fc6bc-1f4b-4428-a763-7d472c8b1a19",
   "metadata": {},
   "outputs": [
    {
     "data": {
      "text/html": [
       "<div>\n",
       "<style scoped>\n",
       "    .dataframe tbody tr th:only-of-type {\n",
       "        vertical-align: middle;\n",
       "    }\n",
       "\n",
       "    .dataframe tbody tr th {\n",
       "        vertical-align: top;\n",
       "    }\n",
       "\n",
       "    .dataframe thead th {\n",
       "        text-align: right;\n",
       "    }\n",
       "</style>\n",
       "<table border=\"1\" class=\"dataframe\">\n",
       "  <thead>\n",
       "    <tr style=\"text-align: right;\">\n",
       "      <th></th>\n",
       "      <th>PID</th>\n",
       "      <th>SalePrice</th>\n",
       "    </tr>\n",
       "  </thead>\n",
       "  <tbody>\n",
       "    <tr>\n",
       "      <th>0</th>\n",
       "      <td>909279080</td>\n",
       "      <td>0</td>\n",
       "    </tr>\n",
       "    <tr>\n",
       "      <th>1</th>\n",
       "      <td>907126050</td>\n",
       "      <td>0</td>\n",
       "    </tr>\n",
       "    <tr>\n",
       "      <th>2</th>\n",
       "      <td>528144030</td>\n",
       "      <td>0</td>\n",
       "    </tr>\n",
       "    <tr>\n",
       "      <th>3</th>\n",
       "      <td>535452060</td>\n",
       "      <td>0</td>\n",
       "    </tr>\n",
       "    <tr>\n",
       "      <th>4</th>\n",
       "      <td>911202100</td>\n",
       "      <td>0</td>\n",
       "    </tr>\n",
       "  </tbody>\n",
       "</table>\n",
       "</div>"
      ],
      "text/plain": [
       "         PID  SalePrice\n",
       "0  909279080          0\n",
       "1  907126050          0\n",
       "2  528144030          0\n",
       "3  535452060          0\n",
       "4  911202100          0"
      ]
     },
     "execution_count": 412,
     "metadata": {},
     "output_type": "execute_result"
    }
   ],
   "source": [
    "# Load data\n",
    "predic = pd.read_csv(\"predictions-example.csv\")\n",
    "predic.head()"
   ]
  },
  {
   "cell_type": "markdown",
   "id": "3222c955-2865-4ccf-bf98-2ced081380a5",
   "metadata": {},
   "source": [
    "As expected, the more complex is model the less is the Mean Absolute Error score"
   ]
  }
 ],
 "metadata": {
  "kernelspec": {
   "display_name": "Python 3 (ipykernel)",
   "language": "python",
   "name": "python3"
  },
  "language_info": {
   "codemirror_mode": {
    "name": "ipython",
    "version": 3
   },
   "file_extension": ".py",
   "mimetype": "text/x-python",
   "name": "python",
   "nbconvert_exporter": "python",
   "pygments_lexer": "ipython3",
   "version": "3.9.7"
  }
 },
 "nbformat": 4,
 "nbformat_minor": 5
}
